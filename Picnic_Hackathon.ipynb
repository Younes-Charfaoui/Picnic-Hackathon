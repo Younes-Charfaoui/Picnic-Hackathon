{
  "nbformat": 4,
  "nbformat_minor": 0,
  "metadata": {
    "colab": {
      "name": "Picnic Hackathon.ipynb",
      "version": "0.3.2",
      "provenance": [],
      "collapsed_sections": []
    },
    "kernelspec": {
      "name": "python3",
      "display_name": "Python 3"
    },
    "accelerator": "GPU"
  },
  "cells": [
    {
      "metadata": {
        "id": "YaXz0VCK_Jeu",
        "colab_type": "text"
      },
      "cell_type": "markdown",
      "source": [
        "# Picnic Hackathon 🥇✅💯\n",
        " **When great customer support meets data**\n",
        "\n",
        "\n",
        "## Why the challenge?\n",
        "One of our core beliefs is to offer our customers the best support possible, by allowing them, for example, to send in pictures of defect products they wish to be reimbursed for. But processing these pictures is very time-consuming as it is all done manually.\n",
        "\n",
        "## What is the challenge?\n",
        "The challenge we propose is the following: As a first step in helping customer support, come up with a way of labeling every picture that comes in according to the product that is in the picture. To keep with the Picnic spirit, we encourage to be as innovative and creative with your solutions as possible.\n",
        "\n",
        "## Dataset\n",
        "To that end, we offer the following [dataset](https://github.com/Younes-Charfaoui/Picnic-Hackathon/blob/master/images/picnic_logo.png) of pictures of defect items."
      ]
    },
    {
      "metadata": {
        "id": "OKgi76X7BgXN",
        "colab_type": "code",
        "colab": {}
      },
      "cell_type": "code",
      "source": [
        "import matplotlib.pyplot as plt\n",
        "import numpy as np\n",
        "import pandas as pd"
      ],
      "execution_count": 0,
      "outputs": []
    },
    {
      "metadata": {
        "id": "2yebNaCSXuFu",
        "colab_type": "code",
        "outputId": "abea0951-4685-469d-910a-7a5009e6c077",
        "colab": {
          "base_uri": "https://localhost:8080/",
          "height": 122
        }
      },
      "cell_type": "code",
      "source": [
        "from google.colab import drive\n",
        "drive.mount('/content/gdrive')"
      ],
      "execution_count": 2,
      "outputs": [
        {
          "output_type": "stream",
          "text": [
            "Go to this URL in a browser: https://accounts.google.com/o/oauth2/auth?client_id=947318989803-6bn6qk8qdgf4n4g3pfee6491hc0brc4i.apps.googleusercontent.com&redirect_uri=urn%3Aietf%3Awg%3Aoauth%3A2.0%3Aoob&scope=email%20https%3A%2F%2Fwww.googleapis.com%2Fauth%2Fdocs.test%20https%3A%2F%2Fwww.googleapis.com%2Fauth%2Fdrive%20https%3A%2F%2Fwww.googleapis.com%2Fauth%2Fdrive.photos.readonly%20https%3A%2F%2Fwww.googleapis.com%2Fauth%2Fpeopleapi.readonly&response_type=code\n",
            "\n",
            "Enter your authorization code:\n",
            "··········\n",
            "Mounted at /content/gdrive\n"
          ],
          "name": "stdout"
        }
      ]
    },
    {
      "metadata": {
        "id": "K-Fogt9TYKil",
        "colab_type": "code",
        "colab": {}
      },
      "cell_type": "code",
      "source": [
        "from keras_preprocessing.image import ImageDataGenerator\n",
        "\n",
        "path_to_folder = 'gdrive/My Drive/Dataset/The Picnic Hackathon 2019/'"
      ],
      "execution_count": 0,
      "outputs": []
    },
    {
      "metadata": {
        "id": "wNnxDwEqYM-4",
        "colab_type": "code",
        "colab": {}
      },
      "cell_type": "code",
      "source": [
        "df = pd.read_csv(path_to_folder + \"train.tsv\",  sep='\\t')"
      ],
      "execution_count": 0,
      "outputs": []
    },
    {
      "metadata": {
        "id": "WPHSj_7y_8fj",
        "colab_type": "code",
        "colab": {}
      },
      "cell_type": "code",
      "source": [
        "datagen = ImageDataGenerator(rescale=1./255, validation_split = 0.3)"
      ],
      "execution_count": 0,
      "outputs": []
    },
    {
      "metadata": {
        "id": "pou09iR8Yg0D",
        "colab_type": "code",
        "outputId": "e18f57c8-3486-46a2-e64e-9029442bf690",
        "colab": {
          "base_uri": "https://localhost:8080/",
          "height": 51
        }
      },
      "cell_type": "code",
      "source": [
        "train_generator = datagen.flow_from_dataframe(dataframe=df, directory=path_to_folder + \"train/\", \n",
        "                                              x_col=\"file\", y_col=\"label\", \n",
        "                                              class_mode=\"categorical\", \n",
        "                                              target_size=(32,32), \n",
        "                                              batch_size=32 ,\n",
        "                                              subset = \"training\")\n",
        "\n",
        "valid_generator = datagen.flow_from_dataframe(dataframe=df, directory=path_to_folder + \"train/\", \n",
        "                                              x_col=\"file\", y_col=\"label\", \n",
        "                                              class_mode=\"categorical\", \n",
        "                                              target_size=(32,32), \n",
        "                                              batch_size=32,\n",
        "                                              subset = \"validation\")"
      ],
      "execution_count": 24,
      "outputs": [
        {
          "output_type": "stream",
          "text": [
            "Found 5081 images belonging to 25 classes.\n",
            "Found 2177 images belonging to 25 classes.\n"
          ],
          "name": "stdout"
        }
      ]
    },
    {
      "metadata": {
        "id": "hItzGEZpFvzi",
        "colab_type": "code",
        "colab": {}
      },
      "cell_type": "code",
      "source": [
        "labels = train_generator.class_indices\n",
        "labels = {v: k for k, v in labels.items()}"
      ],
      "execution_count": 0,
      "outputs": []
    },
    {
      "metadata": {
        "id": "gSVpiimnGB26",
        "colab_type": "code",
        "outputId": "fd3fa26d-4918-4a65-d54d-5a5fd7b404e4",
        "colab": {
          "base_uri": "https://localhost:8080/",
          "height": 54
        }
      },
      "cell_type": "code",
      "source": [
        "print(labels)"
      ],
      "execution_count": 9,
      "outputs": [
        {
          "output_type": "stream",
          "text": [
            "{0: 'Asparagus, string beans & brussels sprouts', 1: 'Bananas, apples & pears', 2: 'Bell peppers, zucchinis & eggplants', 3: 'Berries & cherries', 4: 'Broccoli, cauliflowers, carrots & radish', 5: 'Cheese', 6: 'Citrus fruits', 7: 'Cucumber, tomatoes & avocados', 8: 'Eggs', 9: 'Fish', 10: 'Fresh bread', 11: 'Fresh herbs', 12: 'Kiwis, grapes & mango', 13: 'Lunch & Deli Meats', 14: 'Milk', 15: 'Minced meat & meatballs', 16: 'Nectarines, peaches & apricots', 17: 'Onions, leek, garlic & beets', 18: 'Pineapples, melons & passion fruit', 19: 'Pork, beef & lamb', 20: 'Potatoes', 21: 'Poultry', 22: 'Pre-baked breads', 23: 'Pudding, yogurt & quark', 24: 'Salad & cress'}\n"
          ],
          "name": "stdout"
        }
      ]
    },
    {
      "metadata": {
        "id": "0dSadjLOBttv",
        "colab_type": "code",
        "colab": {}
      },
      "cell_type": "code",
      "source": [
        "time = train_generator.n//train_generator.batch_size\n",
        "x_train = []\n",
        "y_train = []\n",
        "for i in range(time):\n",
        "  print(i)\n",
        "  X, y = train_generator.next()\n",
        "  x_train.append(X)\n",
        "  y_train.append(y)"
      ],
      "execution_count": 0,
      "outputs": []
    },
    {
      "metadata": {
        "id": "S4DBMKjZ-0NW",
        "colab_type": "code",
        "colab": {}
      },
      "cell_type": "code",
      "source": [
        "time = valid_generator.n//valid_generator.batch_size\n",
        "x_valid = []\n",
        "y_valid = []\n",
        "for i in range(time):\n",
        "  print(i)\n",
        "  X, y = valid_generator.next()\n",
        "  x_valid.append(X)\n",
        "  y_valid.append(y)"
      ],
      "execution_count": 0,
      "outputs": []
    },
    {
      "metadata": {
        "id": "9RREpCZI2dUG",
        "colab_type": "code",
        "colab": {}
      },
      "cell_type": "code",
      "source": [
        "xx_train  = []\n",
        "for i in range(len(x_train)):\n",
        "  for img in x_train[i]:\n",
        "    xx_train.append(img)"
      ],
      "execution_count": 0,
      "outputs": []
    },
    {
      "metadata": {
        "id": "fH0uneZu3HR-",
        "colab_type": "code",
        "colab": {}
      },
      "cell_type": "code",
      "source": [
        "yy_train  = []\n",
        "for i in range(len(y_train)):\n",
        "  for img in y_train[i]:\n",
        "    yy_train.append(img)"
      ],
      "execution_count": 0,
      "outputs": []
    },
    {
      "metadata": {
        "id": "TUmFleUN_WyB",
        "colab_type": "code",
        "colab": {}
      },
      "cell_type": "code",
      "source": [
        "xx_valid  = []\n",
        "for i in range(len(x_valid)):\n",
        "  for img in x_valid[i]:\n",
        "    xx_valid.append(img)\n",
        "    \n",
        "yy_valid  = []\n",
        "for i in range(len(y_valid)):\n",
        "  for img in y_train[i]:\n",
        "    yy_valid.append(img)"
      ],
      "execution_count": 0,
      "outputs": []
    },
    {
      "metadata": {
        "id": "Od_6P-fN_p-f",
        "colab_type": "code",
        "colab": {
          "base_uri": "https://localhost:8080/",
          "height": 34
        },
        "outputId": "202a1650-3d77-4e8a-fe27-1d7c1a039441"
      },
      "cell_type": "code",
      "source": [
        "len(xx_train)"
      ],
      "execution_count": 98,
      "outputs": [
        {
          "output_type": "execute_result",
          "data": {
            "text/plain": [
              "5056"
            ]
          },
          "metadata": {
            "tags": []
          },
          "execution_count": 98
        }
      ]
    },
    {
      "metadata": {
        "id": "PqEXXqx84OZT",
        "colab_type": "code",
        "colab": {}
      },
      "cell_type": "code",
      "source": [
        "from sklearn.model_selection import train_test_split\n",
        "img_train, img_test, lbl_train, lbl_test, = train_test_split(xx_train, yy_train, shuffle = True, test_size = 0.3)"
      ],
      "execution_count": 0,
      "outputs": []
    },
    {
      "metadata": {
        "id": "Ux0v1Isotbzu",
        "colab_type": "code",
        "colab": {}
      },
      "cell_type": "code",
      "source": [
        "X_valid, y_valid = valid_generator.next()"
      ],
      "execution_count": 0,
      "outputs": []
    },
    {
      "metadata": {
        "id": "10z1aiTD_6ID",
        "colab_type": "code",
        "outputId": "fcf395e3-556b-4ed5-9037-539213126618",
        "colab": {
          "base_uri": "https://localhost:8080/",
          "height": 1133
        }
      },
      "cell_type": "code",
      "source": [
        "fig = plt.figure(figsize = (20,20))\n",
        "for i in range(16):\n",
        "  ax = fig.add_subplot(4,4, i+1, xticks = [], yticks = [])\n",
        "  ax.imshow(xx_train[i])\n",
        "  ax.set_title(labels[np.argmax(yy_train[i])])"
      ],
      "execution_count": 54,
      "outputs": [
        {
          "output_type": "display_data",
          "data": {
            "image/png": "[encoded data removed]",
            "text/plain": [
              "<Figure size 1440x1440 with 16 Axes>"
            ]
          },
          "metadata": {
            "tags": []
          }
        }
      ]
    },
    {
      "metadata": {
        "id": "qCpC4YQsCBOC",
        "colab_type": "code",
        "colab": {}
      },
      "cell_type": "code",
      "source": [
        "from keras.models import Sequential\n",
        "from keras.layers import Dropout, Conv2D, MaxPooling2D, Activation, Dense, Flatten"
      ],
      "execution_count": 0,
      "outputs": []
    },
    {
      "metadata": {
        "id": "x6gVdGvkCfpj",
        "colab_type": "code",
        "outputId": "fd290de2-a437-4c84-bdd9-10f4813fbdfb",
        "colab": {
          "base_uri": "https://localhost:8080/",
          "height": 442
        }
      },
      "cell_type": "code",
      "source": [
        "# Building simple model\n",
        "model = Sequential()\n",
        "model.add(Conv2D(16, (3, 3), padding='same',\n",
        "                 input_shape=(32,32,3)))\n",
        "model.add(Activation('relu'))\n",
        "model.add(MaxPooling2D(pool_size=(2, 2)))\n",
        "model.add(Dropout(0.25))\n",
        "model.add(Flatten())\n",
        "model.add(Dense(512))\n",
        "model.add(Activation('relu'))\n",
        "model.add(Dropout(0.5))\n",
        "model.add(Dense(25, activation='softmax'))\n",
        "model.summary()\n"
      ],
      "execution_count": 56,
      "outputs": [
        {
          "output_type": "stream",
          "text": [
            "_________________________________________________________________\n",
            "Layer (type)                 Output Shape              Param #   \n",
            "=================================================================\n",
            "conv2d_2 (Conv2D)            (None, 32, 32, 16)        448       \n",
            "_________________________________________________________________\n",
            "activation_3 (Activation)    (None, 32, 32, 16)        0         \n",
            "_________________________________________________________________\n",
            "max_pooling2d_2 (MaxPooling2 (None, 16, 16, 16)        0         \n",
            "_________________________________________________________________\n",
            "dropout_3 (Dropout)          (None, 16, 16, 16)        0         \n",
            "_________________________________________________________________\n",
            "flatten_2 (Flatten)          (None, 4096)              0         \n",
            "_________________________________________________________________\n",
            "dense_3 (Dense)              (None, 512)               2097664   \n",
            "_________________________________________________________________\n",
            "activation_4 (Activation)    (None, 512)               0         \n",
            "_________________________________________________________________\n",
            "dropout_4 (Dropout)          (None, 512)               0         \n",
            "_________________________________________________________________\n",
            "dense_4 (Dense)              (None, 25)                12825     \n",
            "=================================================================\n",
            "Total params: 2,110,937\n",
            "Trainable params: 2,110,937\n",
            "Non-trainable params: 0\n",
            "_________________________________________________________________\n"
          ],
          "name": "stdout"
        }
      ]
    },
    {
      "metadata": {
        "id": "kjZC8TTgCwi5",
        "colab_type": "code",
        "colab": {}
      },
      "cell_type": "code",
      "source": [
        "model.compile(optimizer = 'rmsprop', loss=\"categorical_crossentropy\", metrics=[\"accuracy\"])"
      ],
      "execution_count": 0,
      "outputs": []
    },
    {
      "metadata": {
        "id": "gRaTy5eIDXo-",
        "colab_type": "code",
        "colab": {}
      },
      "cell_type": "code",
      "source": [
        "STEP_SIZE_TRAIN = train_generator.n//train_generator.batch_size"
      ],
      "execution_count": 0,
      "outputs": []
    },
    {
      "metadata": {
        "id": "IyWfh--f6J5H",
        "colab_type": "code",
        "colab": {}
      },
      "cell_type": "code",
      "source": [
        ""
      ],
      "execution_count": 0,
      "outputs": []
    },
    {
      "metadata": {
        "id": "_JAwQ7hs4v83",
        "colab_type": "code",
        "colab": {
          "base_uri": "https://localhost:8080/",
          "height": 3417
        },
        "outputId": "261c55d6-e304-414f-a312-ea6b962ae5f9"
      },
      "cell_type": "code",
      "source": [
        "history = model.fit([xx_train], [yy_train], epochs=100, batch_size = 32)"
      ],
      "execution_count": 64,
      "outputs": [
        {
          "output_type": "stream",
          "text": [
            "Epoch 1/100\n",
            "5056/5056 [==============================] - 1s 290us/step - loss: 1.2431 - acc: 0.6313\n",
            "Epoch 2/100\n",
            "5056/5056 [==============================] - 1s 286us/step - loss: 1.1046 - acc: 0.6681\n",
            "Epoch 3/100\n",
            "5056/5056 [==============================] - 1s 278us/step - loss: 0.9912 - acc: 0.7017\n",
            "Epoch 4/100\n",
            "5056/5056 [==============================] - 1s 284us/step - loss: 0.9125 - acc: 0.7294\n",
            "Epoch 5/100\n",
            "5056/5056 [==============================] - 1s 282us/step - loss: 0.8249 - acc: 0.7435\n",
            "Epoch 6/100\n",
            "5056/5056 [==============================] - 1s 282us/step - loss: 0.7169 - acc: 0.7894\n",
            "Epoch 7/100\n",
            "5056/5056 [==============================] - 1s 285us/step - loss: 0.6537 - acc: 0.8072\n",
            "Epoch 8/100\n",
            "5056/5056 [==============================] - 1s 283us/step - loss: 0.5794 - acc: 0.8261\n",
            "Epoch 9/100\n",
            "5056/5056 [==============================] - 1s 288us/step - loss: 0.5355 - acc: 0.8362\n",
            "Epoch 10/100\n",
            "5056/5056 [==============================] - 1s 283us/step - loss: 0.4810 - acc: 0.8588\n",
            "Epoch 11/100\n",
            "5056/5056 [==============================] - 1s 276us/step - loss: 0.4307 - acc: 0.8699\n",
            "Epoch 12/100\n",
            "5056/5056 [==============================] - 1s 278us/step - loss: 0.4124 - acc: 0.8784\n",
            "Epoch 13/100\n",
            "5056/5056 [==============================] - 1s 281us/step - loss: 0.3718 - acc: 0.8900\n",
            "Epoch 14/100\n",
            "5056/5056 [==============================] - 1s 279us/step - loss: 0.3428 - acc: 0.8987\n",
            "Epoch 15/100\n",
            "5056/5056 [==============================] - 1s 281us/step - loss: 0.3237 - acc: 0.9017\n",
            "Epoch 16/100\n",
            "5056/5056 [==============================] - 1s 279us/step - loss: 0.2880 - acc: 0.9165\n",
            "Epoch 17/100\n",
            "5056/5056 [==============================] - 1s 283us/step - loss: 0.2935 - acc: 0.9120\n",
            "Epoch 18/100\n",
            "5056/5056 [==============================] - 1s 280us/step - loss: 0.2682 - acc: 0.9227\n",
            "Epoch 19/100\n",
            "5056/5056 [==============================] - 1s 271us/step - loss: 0.2546 - acc: 0.9242\n",
            "Epoch 20/100\n",
            "5056/5056 [==============================] - 1s 277us/step - loss: 0.2252 - acc: 0.9345\n",
            "Epoch 21/100\n",
            "5056/5056 [==============================] - 1s 271us/step - loss: 0.2070 - acc: 0.9381\n",
            "Epoch 22/100\n",
            "5056/5056 [==============================] - 1s 280us/step - loss: 0.1932 - acc: 0.9417\n",
            "Epoch 23/100\n",
            "5056/5056 [==============================] - 1s 272us/step - loss: 0.2068 - acc: 0.9409\n",
            "Epoch 24/100\n",
            "5056/5056 [==============================] - 1s 269us/step - loss: 0.2034 - acc: 0.9365\n",
            "Epoch 25/100\n",
            "5056/5056 [==============================] - 1s 269us/step - loss: 0.1771 - acc: 0.9517\n",
            "Epoch 26/100\n",
            "5056/5056 [==============================] - 1s 268us/step - loss: 0.1817 - acc: 0.9456\n",
            "Epoch 27/100\n",
            "5056/5056 [==============================] - 1s 268us/step - loss: 0.1711 - acc: 0.9490\n",
            "Epoch 28/100\n",
            "5056/5056 [==============================] - 1s 268us/step - loss: 0.1483 - acc: 0.9565\n",
            "Epoch 29/100\n",
            "5056/5056 [==============================] - 1s 270us/step - loss: 0.1547 - acc: 0.9549\n",
            "Epoch 30/100\n",
            "5056/5056 [==============================] - 1s 273us/step - loss: 0.1601 - acc: 0.9575\n",
            "Epoch 31/100\n",
            "5056/5056 [==============================] - 1s 270us/step - loss: 0.1575 - acc: 0.9529\n",
            "Epoch 32/100\n",
            "5056/5056 [==============================] - 1s 269us/step - loss: 0.1334 - acc: 0.9597\n",
            "Epoch 33/100\n",
            "5056/5056 [==============================] - 1s 273us/step - loss: 0.1433 - acc: 0.9604\n",
            "Epoch 34/100\n",
            "5056/5056 [==============================] - 1s 269us/step - loss: 0.1484 - acc: 0.9581\n",
            "Epoch 35/100\n",
            "5056/5056 [==============================] - 1s 273us/step - loss: 0.1361 - acc: 0.9614\n",
            "Epoch 36/100\n",
            "5056/5056 [==============================] - 1s 267us/step - loss: 0.1459 - acc: 0.9593\n",
            "Epoch 37/100\n",
            "5056/5056 [==============================] - 1s 269us/step - loss: 0.1244 - acc: 0.9634\n",
            "Epoch 38/100\n",
            "5056/5056 [==============================] - 1s 271us/step - loss: 0.1380 - acc: 0.9616\n",
            "Epoch 39/100\n",
            "5056/5056 [==============================] - 1s 267us/step - loss: 0.1196 - acc: 0.9652\n",
            "Epoch 40/100\n",
            "5056/5056 [==============================] - 1s 268us/step - loss: 0.1327 - acc: 0.9624\n",
            "Epoch 41/100\n",
            "5056/5056 [==============================] - 1s 270us/step - loss: 0.1332 - acc: 0.9626\n",
            "Epoch 42/100\n",
            "5056/5056 [==============================] - 1s 267us/step - loss: 0.1342 - acc: 0.9595\n",
            "Epoch 43/100\n",
            "5056/5056 [==============================] - 1s 270us/step - loss: 0.1267 - acc: 0.9630\n",
            "Epoch 44/100\n",
            "5056/5056 [==============================] - 1s 273us/step - loss: 0.1301 - acc: 0.9648\n",
            "Epoch 45/100\n",
            "5056/5056 [==============================] - 1s 270us/step - loss: 0.1198 - acc: 0.9674\n",
            "Epoch 46/100\n",
            "5056/5056 [==============================] - 1s 270us/step - loss: 0.1175 - acc: 0.9668\n",
            "Epoch 47/100\n",
            "5056/5056 [==============================] - 1s 272us/step - loss: 0.1228 - acc: 0.9642\n",
            "Epoch 48/100\n",
            "5056/5056 [==============================] - 1s 270us/step - loss: 0.1256 - acc: 0.9640\n",
            "Epoch 49/100\n",
            "5056/5056 [==============================] - 1s 272us/step - loss: 0.1119 - acc: 0.9689\n",
            "Epoch 50/100\n",
            "5056/5056 [==============================] - 1s 277us/step - loss: 0.1089 - acc: 0.9680\n",
            "Epoch 51/100\n",
            "5056/5056 [==============================] - 1s 274us/step - loss: 0.1102 - acc: 0.9672\n",
            "Epoch 52/100\n",
            "5056/5056 [==============================] - 1s 273us/step - loss: 0.1130 - acc: 0.9703\n",
            "Epoch 53/100\n",
            "5056/5056 [==============================] - 1s 276us/step - loss: 0.1160 - acc: 0.9682\n",
            "Epoch 54/100\n",
            "5056/5056 [==============================] - 1s 272us/step - loss: 0.1291 - acc: 0.9648\n",
            "Epoch 55/100\n",
            "5056/5056 [==============================] - 1s 271us/step - loss: 0.1003 - acc: 0.9703\n",
            "Epoch 56/100\n",
            "5056/5056 [==============================] - 1s 275us/step - loss: 0.0892 - acc: 0.9749\n",
            "Epoch 57/100\n",
            "5056/5056 [==============================] - 1s 275us/step - loss: 0.1080 - acc: 0.9721\n",
            "Epoch 58/100\n",
            "5056/5056 [==============================] - 1s 273us/step - loss: 0.1205 - acc: 0.9652\n",
            "Epoch 59/100\n",
            "5056/5056 [==============================] - 1s 274us/step - loss: 0.1168 - acc: 0.9691\n",
            "Epoch 60/100\n",
            "5056/5056 [==============================] - 1s 271us/step - loss: 0.1043 - acc: 0.9739\n",
            "Epoch 61/100\n",
            "5056/5056 [==============================] - 1s 271us/step - loss: 0.1128 - acc: 0.9678\n",
            "Epoch 62/100\n",
            "5056/5056 [==============================] - 1s 273us/step - loss: 0.1119 - acc: 0.9709\n",
            "Epoch 63/100\n",
            "5056/5056 [==============================] - 1s 273us/step - loss: 0.1091 - acc: 0.9674\n",
            "Epoch 64/100\n",
            "5056/5056 [==============================] - 1s 274us/step - loss: 0.1047 - acc: 0.9717\n",
            "Epoch 65/100\n",
            "5056/5056 [==============================] - 1s 272us/step - loss: 0.1049 - acc: 0.9707\n",
            "Epoch 66/100\n",
            "5056/5056 [==============================] - 1s 275us/step - loss: 0.0955 - acc: 0.9737\n",
            "Epoch 67/100\n",
            "5056/5056 [==============================] - 1s 279us/step - loss: 0.0989 - acc: 0.9705\n",
            "Epoch 68/100\n",
            "5056/5056 [==============================] - 1s 293us/step - loss: 0.1042 - acc: 0.9703\n",
            "Epoch 69/100\n",
            "5056/5056 [==============================] - 1s 285us/step - loss: 0.1019 - acc: 0.9715\n",
            "Epoch 70/100\n",
            "5056/5056 [==============================] - 1s 275us/step - loss: 0.1074 - acc: 0.9715\n",
            "Epoch 71/100\n",
            "5056/5056 [==============================] - 1s 271us/step - loss: 0.1042 - acc: 0.9701\n",
            "Epoch 72/100\n",
            "5056/5056 [==============================] - 1s 271us/step - loss: 0.0933 - acc: 0.9739\n",
            "Epoch 73/100\n",
            "5056/5056 [==============================] - 1s 278us/step - loss: 0.0940 - acc: 0.9753\n",
            "Epoch 74/100\n",
            "5056/5056 [==============================] - 1s 271us/step - loss: 0.0895 - acc: 0.9759\n",
            "Epoch 75/100\n",
            "5056/5056 [==============================] - 1s 269us/step - loss: 0.1007 - acc: 0.9727\n",
            "Epoch 76/100\n",
            "5056/5056 [==============================] - 1s 275us/step - loss: 0.1101 - acc: 0.9699\n",
            "Epoch 77/100\n",
            "5056/5056 [==============================] - 1s 275us/step - loss: 0.1178 - acc: 0.9705\n",
            "Epoch 78/100\n",
            "5056/5056 [==============================] - 1s 271us/step - loss: 0.1036 - acc: 0.9733\n",
            "Epoch 79/100\n",
            "5056/5056 [==============================] - 1s 275us/step - loss: 0.1064 - acc: 0.9705\n",
            "Epoch 80/100\n",
            "5056/5056 [==============================] - 1s 269us/step - loss: 0.1042 - acc: 0.9725\n",
            "Epoch 81/100\n",
            "5056/5056 [==============================] - 1s 274us/step - loss: 0.0994 - acc: 0.9713\n",
            "Epoch 82/100\n",
            "5056/5056 [==============================] - 1s 271us/step - loss: 0.1064 - acc: 0.9719\n",
            "Epoch 83/100\n",
            "5056/5056 [==============================] - 1s 273us/step - loss: 0.1047 - acc: 0.9705\n",
            "Epoch 84/100\n",
            "5056/5056 [==============================] - 1s 273us/step - loss: 0.0979 - acc: 0.9773\n",
            "Epoch 85/100\n",
            "5056/5056 [==============================] - 1s 274us/step - loss: 0.1089 - acc: 0.9763\n",
            "Epoch 86/100\n",
            "5056/5056 [==============================] - 1s 274us/step - loss: 0.1049 - acc: 0.9741\n",
            "Epoch 87/100\n",
            "5056/5056 [==============================] - 1s 272us/step - loss: 0.1049 - acc: 0.9741\n",
            "Epoch 88/100\n",
            "5056/5056 [==============================] - 1s 276us/step - loss: 0.1031 - acc: 0.9743\n",
            "Epoch 89/100\n",
            "5056/5056 [==============================] - 1s 271us/step - loss: 0.1170 - acc: 0.9721\n",
            "Epoch 90/100\n",
            "5056/5056 [==============================] - 1s 275us/step - loss: 0.1049 - acc: 0.9737\n",
            "Epoch 91/100\n",
            "5056/5056 [==============================] - 1s 280us/step - loss: 0.1016 - acc: 0.9735\n",
            "Epoch 92/100\n",
            "5056/5056 [==============================] - 1s 279us/step - loss: 0.1175 - acc: 0.9699\n",
            "Epoch 93/100\n",
            "5056/5056 [==============================] - 1s 283us/step - loss: 0.1079 - acc: 0.9701\n",
            "Epoch 94/100\n",
            "5056/5056 [==============================] - 1s 284us/step - loss: 0.1011 - acc: 0.9749\n",
            "Epoch 95/100\n",
            "5056/5056 [==============================] - 1s 276us/step - loss: 0.1046 - acc: 0.9741\n",
            "Epoch 96/100\n",
            "5056/5056 [==============================] - 1s 274us/step - loss: 0.1044 - acc: 0.9739\n",
            "Epoch 97/100\n",
            "5056/5056 [==============================] - 1s 274us/step - loss: 0.0945 - acc: 0.9741\n",
            "Epoch 98/100\n",
            "5056/5056 [==============================] - 1s 289us/step - loss: 0.1049 - acc: 0.9729\n",
            "Epoch 99/100\n",
            "5056/5056 [==============================] - 1s 279us/step - loss: 0.1038 - acc: 0.9745\n",
            "Epoch 100/100\n",
            "5056/5056 [==============================] - 1s 278us/step - loss: 0.1145 - acc: 0.9715\n"
          ],
          "name": "stdout"
        }
      ]
    },
    {
      "metadata": {
        "id": "O9VA8dRa5-2Y",
        "colab_type": "code",
        "colab": {
          "base_uri": "https://localhost:8080/",
          "height": 347
        },
        "outputId": "a54615ab-5cd7-412f-bfd4-7a0f7cb77375"
      },
      "cell_type": "code",
      "source": [
        "plt.plot(history.history['loss'])\n",
        "plt.show()"
      ],
      "execution_count": 65,
      "outputs": [
        {
          "output_type": "display_data",
          "data": {
            "image/png": "[encoded data removed]",
            "text/plain": [
              "<Figure size 576x396 with 1 Axes>"
            ]
          },
          "metadata": {
            "tags": []
          }
        }
      ]
    },
    {
      "metadata": {
        "id": "giEfUjoODIAi",
        "colab_type": "code",
        "colab": {}
      },
      "cell_type": "code",
      "source": [
        "history = model.fit_generator(generator=train_generator, epochs=10, steps_per_epoch=STEP_SIZE_TRAIN)"
      ],
      "execution_count": 0,
      "outputs": []
    },
    {
      "metadata": {
        "id": "VSJmgXA-Dg2e",
        "colab_type": "code",
        "colab": {
          "base_uri": "https://localhost:8080/",
          "height": 51
        },
        "outputId": "b194f471-0246-4233-d7ef-6233ea9e9fba"
      },
      "cell_type": "code",
      "source": [
        "score = model.evaluate_generator(valid_generator, steps = valid_generator.n//valid_generator.batch_size, workers=12)"
      ],
      "execution_count": 66,
      "outputs": [
        {
          "output_type": "stream",
          "text": [
            "/usr/local/lib/python3.6/dist-packages/PIL/Image.py:885: UserWarning: Palette images with Transparency   expressed in bytes should be converted to RGBA images\n",
            "  'to RGBA images')\n"
          ],
          "name": "stderr"
        }
      ]
    },
    {
      "metadata": {
        "id": "fV-qVylfaHZ4",
        "colab_type": "code",
        "outputId": "afa01190-3525-4149-d76a-4e730818b336",
        "colab": {
          "base_uri": "https://localhost:8080/",
          "height": 34
        }
      },
      "cell_type": "code",
      "source": [
        "print('Accuracy of {}%'.format(score[1]*100))"
      ],
      "execution_count": 67,
      "outputs": [
        {
          "output_type": "stream",
          "text": [
            "Accuracy of 26.946386946386948%\n"
          ],
          "name": "stdout"
        }
      ]
    },
    {
      "metadata": {
        "id": "TPsfHe9Du03q",
        "colab_type": "code",
        "colab": {
          "base_uri": "https://localhost:8080/",
          "height": 510
        },
        "outputId": "5d0937a8-21af-45f3-915c-cf61c2e2a59d"
      },
      "cell_type": "code",
      "source": [
        "# Building some complex models\n",
        "model = Sequential()\n",
        "model.add(Conv2D(16, kernel_size = (1,1), padding= 'same', input_shape = (32,32,3), activation = 'relu'))\n",
        "model.add(Conv2D(16, kernel_size = (1,1), padding= 'same', activation = 'relu'))\n",
        "model.add(MaxPooling2D(pool_size = 1))\n",
        "model.add(Conv2D(32, kernel_size = (2,2), padding= 'same', activation = 'relu'))\n",
        "model.add(Conv2D(64, kernel_size = (2,2), padding= 'same', activation = 'relu'))\n",
        "model.add(MaxPooling2D(pool_size = 1))\n",
        "model.add(Dropout(0.2))\n",
        "model.add(Flatten())\n",
        "model.add(Dense(512, activation = 'relu'))\n",
        "model.add(Dropout(0.3))\n",
        "model.add(Dense(25, activation = 'softmax'))\n",
        "model.summary()"
      ],
      "execution_count": 111,
      "outputs": [
        {
          "output_type": "stream",
          "text": [
            "_________________________________________________________________\n",
            "Layer (type)                 Output Shape              Param #   \n",
            "=================================================================\n",
            "conv2d_19 (Conv2D)           (None, 32, 32, 16)        64        \n",
            "_________________________________________________________________\n",
            "conv2d_20 (Conv2D)           (None, 32, 32, 16)        272       \n",
            "_________________________________________________________________\n",
            "max_pooling2d_13 (MaxPooling (None, 32, 32, 16)        0         \n",
            "_________________________________________________________________\n",
            "conv2d_21 (Conv2D)           (None, 32, 32, 32)        2080      \n",
            "_________________________________________________________________\n",
            "conv2d_22 (Conv2D)           (None, 32, 32, 64)        8256      \n",
            "_________________________________________________________________\n",
            "max_pooling2d_14 (MaxPooling (None, 32, 32, 64)        0         \n",
            "_________________________________________________________________\n",
            "dropout_22 (Dropout)         (None, 32, 32, 64)        0         \n",
            "_________________________________________________________________\n",
            "flatten_9 (Flatten)          (None, 65536)             0         \n",
            "_________________________________________________________________\n",
            "dense_19 (Dense)             (None, 512)               33554944  \n",
            "_________________________________________________________________\n",
            "dropout_23 (Dropout)         (None, 512)               0         \n",
            "_________________________________________________________________\n",
            "dense_20 (Dense)             (None, 25)                12825     \n",
            "=================================================================\n",
            "Total params: 33,578,441\n",
            "Trainable params: 33,578,441\n",
            "Non-trainable params: 0\n",
            "_________________________________________________________________\n"
          ],
          "name": "stdout"
        }
      ]
    },
    {
      "metadata": {
        "id": "lAnvndVQ797_",
        "colab_type": "code",
        "colab": {}
      },
      "cell_type": "code",
      "source": [
        "model.compile(loss = 'categorical_crossentropy', optimizer = 'adam' , metrics = ['accuracy'])"
      ],
      "execution_count": 0,
      "outputs": []
    },
    {
      "metadata": {
        "id": "yercwyr_73C1",
        "colab_type": "code",
        "colab": {
          "base_uri": "https://localhost:8080/",
          "height": 3417
        },
        "outputId": "a27a72e1-90f5-4128-c68c-e862c2fdd398"
      },
      "cell_type": "code",
      "source": [
        "history = model.fit([img_train], [lbl_train], epochs=100, batch_size = 32)"
      ],
      "execution_count": 113,
      "outputs": [
        {
          "output_type": "stream",
          "text": [
            "Epoch 1/100\n",
            "3539/3539 [==============================] - 8s 2ms/step - loss: 3.0147 - acc: 0.1390\n",
            "Epoch 2/100\n",
            "3539/3539 [==============================] - 6s 2ms/step - loss: 2.6806 - acc: 0.2122\n",
            "Epoch 3/100\n",
            "3539/3539 [==============================] - 6s 2ms/step - loss: 2.3122 - acc: 0.3100\n",
            "Epoch 4/100\n",
            "3539/3539 [==============================] - 6s 2ms/step - loss: 1.6498 - acc: 0.5103\n",
            "Epoch 5/100\n",
            "3539/3539 [==============================] - 6s 2ms/step - loss: 0.7976 - acc: 0.7703\n",
            "Epoch 6/100\n",
            "3539/3539 [==============================] - 6s 2ms/step - loss: 0.3082 - acc: 0.9124\n",
            "Epoch 7/100\n",
            "3539/3539 [==============================] - 6s 2ms/step - loss: 0.1383 - acc: 0.9635\n",
            "Epoch 8/100\n",
            "3539/3539 [==============================] - 6s 2ms/step - loss: 0.0899 - acc: 0.9794\n",
            "Epoch 9/100\n",
            "3539/3539 [==============================] - 7s 2ms/step - loss: 0.0558 - acc: 0.9867\n",
            "Epoch 10/100\n",
            "3539/3539 [==============================] - 6s 2ms/step - loss: 0.0501 - acc: 0.9881\n",
            "Epoch 11/100\n",
            "3539/3539 [==============================] - 6s 2ms/step - loss: 0.0414 - acc: 0.9915\n",
            "Epoch 12/100\n",
            "3539/3539 [==============================] - 6s 2ms/step - loss: 0.0314 - acc: 0.9935\n",
            "Epoch 13/100\n",
            "3539/3539 [==============================] - 6s 2ms/step - loss: 0.0380 - acc: 0.9910\n",
            "Epoch 14/100\n",
            "3539/3539 [==============================] - 6s 2ms/step - loss: 0.0340 - acc: 0.9927\n",
            "Epoch 15/100\n",
            "3539/3539 [==============================] - 6s 2ms/step - loss: 0.0351 - acc: 0.9912\n",
            "Epoch 16/100\n",
            "3539/3539 [==============================] - 6s 2ms/step - loss: 0.0233 - acc: 0.9960\n",
            "Epoch 17/100\n",
            "3539/3539 [==============================] - 6s 2ms/step - loss: 0.0361 - acc: 0.9943\n",
            "Epoch 18/100\n",
            "3539/3539 [==============================] - 6s 2ms/step - loss: 0.0464 - acc: 0.9887\n",
            "Epoch 19/100\n",
            "3539/3539 [==============================] - 6s 2ms/step - loss: 0.0407 - acc: 0.9907\n",
            "Epoch 20/100\n",
            "3539/3539 [==============================] - 6s 2ms/step - loss: 0.0300 - acc: 0.9927\n",
            "Epoch 21/100\n",
            "3539/3539 [==============================] - 6s 2ms/step - loss: 0.0333 - acc: 0.9918\n",
            "Epoch 22/100\n",
            "3539/3539 [==============================] - 6s 2ms/step - loss: 0.0245 - acc: 0.9938\n",
            "Epoch 23/100\n",
            "3539/3539 [==============================] - 6s 2ms/step - loss: 0.0286 - acc: 0.9932\n",
            "Epoch 24/100\n",
            "3539/3539 [==============================] - 6s 2ms/step - loss: 0.0190 - acc: 0.9963\n",
            "Epoch 25/100\n",
            "3539/3539 [==============================] - 6s 2ms/step - loss: 0.0271 - acc: 0.9943\n",
            "Epoch 26/100\n",
            "3539/3539 [==============================] - 6s 2ms/step - loss: 0.0275 - acc: 0.9929\n",
            "Epoch 27/100\n",
            "3539/3539 [==============================] - 6s 2ms/step - loss: 0.0262 - acc: 0.9952\n",
            "Epoch 28/100\n",
            "3539/3539 [==============================] - 6s 2ms/step - loss: 0.0208 - acc: 0.9960\n",
            "Epoch 29/100\n",
            "3539/3539 [==============================] - 6s 2ms/step - loss: 0.0128 - acc: 0.9969\n",
            "Epoch 30/100\n",
            "3539/3539 [==============================] - 6s 2ms/step - loss: 0.0185 - acc: 0.9972\n",
            "Epoch 31/100\n",
            "3539/3539 [==============================] - 6s 2ms/step - loss: 0.0277 - acc: 0.9938\n",
            "Epoch 32/100\n",
            "3539/3539 [==============================] - 7s 2ms/step - loss: 0.0224 - acc: 0.9949\n",
            "Epoch 33/100\n",
            "3539/3539 [==============================] - 6s 2ms/step - loss: 0.0287 - acc: 0.9929\n",
            "Epoch 34/100\n",
            "3539/3539 [==============================] - 6s 2ms/step - loss: 0.0287 - acc: 0.9938\n",
            "Epoch 35/100\n",
            "3539/3539 [==============================] - 6s 2ms/step - loss: 0.0174 - acc: 0.9963\n",
            "Epoch 36/100\n",
            "3539/3539 [==============================] - 6s 2ms/step - loss: 0.0166 - acc: 0.9960\n",
            "Epoch 37/100\n",
            "3539/3539 [==============================] - 6s 2ms/step - loss: 0.0112 - acc: 0.9980\n",
            "Epoch 38/100\n",
            "3539/3539 [==============================] - 6s 2ms/step - loss: 0.0224 - acc: 0.9958\n",
            "Epoch 39/100\n",
            "3539/3539 [==============================] - 6s 2ms/step - loss: 0.0149 - acc: 0.9969\n",
            "Epoch 40/100\n",
            "3539/3539 [==============================] - 6s 2ms/step - loss: 0.0123 - acc: 0.9975\n",
            "Epoch 41/100\n",
            "3539/3539 [==============================] - 6s 2ms/step - loss: 0.0130 - acc: 0.9983\n",
            "Epoch 42/100\n",
            "3539/3539 [==============================] - 6s 2ms/step - loss: 0.0197 - acc: 0.9946\n",
            "Epoch 43/100\n",
            "3539/3539 [==============================] - 6s 2ms/step - loss: 0.0255 - acc: 0.9932\n",
            "Epoch 44/100\n",
            "3539/3539 [==============================] - 6s 2ms/step - loss: 0.0175 - acc: 0.9952\n",
            "Epoch 45/100\n",
            "3539/3539 [==============================] - 6s 2ms/step - loss: 0.0204 - acc: 0.9955\n",
            "Epoch 46/100\n",
            "3539/3539 [==============================] - 6s 2ms/step - loss: 0.0204 - acc: 0.9943\n",
            "Epoch 47/100\n",
            "3539/3539 [==============================] - 6s 2ms/step - loss: 0.0136 - acc: 0.9977\n",
            "Epoch 48/100\n",
            "3539/3539 [==============================] - 6s 2ms/step - loss: 0.0241 - acc: 0.9932\n",
            "Epoch 49/100\n",
            "3539/3539 [==============================] - 6s 2ms/step - loss: 0.0266 - acc: 0.9935\n",
            "Epoch 50/100\n",
            "3539/3539 [==============================] - 6s 2ms/step - loss: 0.0124 - acc: 0.9983\n",
            "Epoch 51/100\n",
            "3539/3539 [==============================] - 6s 2ms/step - loss: 0.0123 - acc: 0.9975\n",
            "Epoch 52/100\n",
            "3539/3539 [==============================] - 6s 2ms/step - loss: 0.0178 - acc: 0.9958\n",
            "Epoch 53/100\n",
            "3539/3539 [==============================] - 6s 2ms/step - loss: 0.0124 - acc: 0.9983\n",
            "Epoch 54/100\n",
            "3539/3539 [==============================] - 6s 2ms/step - loss: 0.0143 - acc: 0.9958\n",
            "Epoch 55/100\n",
            "3539/3539 [==============================] - 6s 2ms/step - loss: 0.0150 - acc: 0.9960\n",
            "Epoch 56/100\n",
            "3539/3539 [==============================] - 6s 2ms/step - loss: 0.0232 - acc: 0.9949\n",
            "Epoch 57/100\n",
            "3539/3539 [==============================] - 6s 2ms/step - loss: 0.0136 - acc: 0.9969\n",
            "Epoch 58/100\n",
            "3539/3539 [==============================] - 6s 2ms/step - loss: 0.0116 - acc: 0.9977\n",
            "Epoch 59/100\n",
            "3539/3539 [==============================] - 6s 2ms/step - loss: 0.0113 - acc: 0.9977\n",
            "Epoch 60/100\n",
            "3539/3539 [==============================] - 6s 2ms/step - loss: 0.0157 - acc: 0.9949\n",
            "Epoch 61/100\n",
            "3539/3539 [==============================] - 6s 2ms/step - loss: 0.0151 - acc: 0.9960\n",
            "Epoch 62/100\n",
            "3539/3539 [==============================] - 6s 2ms/step - loss: 0.0135 - acc: 0.9977\n",
            "Epoch 63/100\n",
            "3539/3539 [==============================] - 6s 2ms/step - loss: 0.0110 - acc: 0.9980\n",
            "Epoch 64/100\n",
            "3539/3539 [==============================] - 6s 2ms/step - loss: 0.0122 - acc: 0.9966\n",
            "Epoch 65/100\n",
            "3539/3539 [==============================] - 6s 2ms/step - loss: 0.0174 - acc: 0.9966\n",
            "Epoch 66/100\n",
            "3539/3539 [==============================] - 6s 2ms/step - loss: 0.0113 - acc: 0.9977\n",
            "Epoch 67/100\n",
            "3539/3539 [==============================] - 6s 2ms/step - loss: 0.0167 - acc: 0.9963\n",
            "Epoch 68/100\n",
            "3539/3539 [==============================] - 6s 2ms/step - loss: 0.0183 - acc: 0.9932\n",
            "Epoch 69/100\n",
            "3539/3539 [==============================] - 6s 2ms/step - loss: 0.0179 - acc: 0.9960\n",
            "Epoch 70/100\n",
            "3539/3539 [==============================] - 6s 2ms/step - loss: 0.0141 - acc: 0.9963\n",
            "Epoch 71/100\n",
            "3539/3539 [==============================] - 6s 2ms/step - loss: 0.0120 - acc: 0.9975\n",
            "Epoch 72/100\n",
            "3539/3539 [==============================] - 6s 2ms/step - loss: 0.0145 - acc: 0.9969\n",
            "Epoch 73/100\n",
            "3539/3539 [==============================] - 6s 2ms/step - loss: 0.0179 - acc: 0.9963\n",
            "Epoch 74/100\n",
            "3539/3539 [==============================] - 6s 2ms/step - loss: 0.0103 - acc: 0.9975\n",
            "Epoch 75/100\n",
            "3539/3539 [==============================] - 6s 2ms/step - loss: 0.0100 - acc: 0.9980\n",
            "Epoch 76/100\n",
            "3539/3539 [==============================] - 6s 2ms/step - loss: 0.0178 - acc: 0.9958\n",
            "Epoch 77/100\n",
            "3539/3539 [==============================] - 6s 2ms/step - loss: 0.0180 - acc: 0.9960\n",
            "Epoch 78/100\n",
            "3539/3539 [==============================] - 6s 2ms/step - loss: 0.0182 - acc: 0.9960\n",
            "Epoch 79/100\n",
            "3539/3539 [==============================] - 6s 2ms/step - loss: 0.0273 - acc: 0.9941\n",
            "Epoch 80/100\n",
            "3539/3539 [==============================] - 6s 2ms/step - loss: 0.0091 - acc: 0.9992\n",
            "Epoch 81/100\n",
            "3539/3539 [==============================] - 6s 2ms/step - loss: 0.0178 - acc: 0.9960\n",
            "Epoch 82/100\n",
            "3539/3539 [==============================] - 6s 2ms/step - loss: 0.0196 - acc: 0.9963\n",
            "Epoch 83/100\n",
            "3539/3539 [==============================] - 6s 2ms/step - loss: 0.0155 - acc: 0.9977\n",
            "Epoch 84/100\n",
            "3539/3539 [==============================] - 6s 2ms/step - loss: 0.0122 - acc: 0.9977\n",
            "Epoch 85/100\n",
            "3539/3539 [==============================] - 6s 2ms/step - loss: 0.0193 - acc: 0.9972\n",
            "Epoch 86/100\n",
            "3539/3539 [==============================] - 6s 2ms/step - loss: 0.0115 - acc: 0.9975\n",
            "Epoch 87/100\n",
            "3539/3539 [==============================] - 6s 2ms/step - loss: 0.0071 - acc: 0.9986\n",
            "Epoch 88/100\n",
            "3539/3539 [==============================] - 6s 2ms/step - loss: 0.0157 - acc: 0.9969\n",
            "Epoch 89/100\n",
            "3539/3539 [==============================] - 6s 2ms/step - loss: 0.0113 - acc: 0.9983\n",
            "Epoch 90/100\n",
            "3539/3539 [==============================] - 6s 2ms/step - loss: 0.0185 - acc: 0.9960\n",
            "Epoch 91/100\n",
            "3539/3539 [==============================] - 6s 2ms/step - loss: 0.0142 - acc: 0.9969\n",
            "Epoch 92/100\n",
            "3539/3539 [==============================] - 6s 2ms/step - loss: 0.0090 - acc: 0.9986\n",
            "Epoch 93/100\n",
            "3539/3539 [==============================] - 6s 2ms/step - loss: 0.0059 - acc: 0.9992\n",
            "Epoch 94/100\n",
            "3539/3539 [==============================] - 6s 2ms/step - loss: 0.0057 - acc: 0.9992\n",
            "Epoch 95/100\n",
            "3539/3539 [==============================] - 6s 2ms/step - loss: 0.0118 - acc: 0.9983\n",
            "Epoch 96/100\n",
            "3539/3539 [==============================] - 6s 2ms/step - loss: 0.0070 - acc: 0.9992\n",
            "Epoch 97/100\n",
            "3539/3539 [==============================] - 6s 2ms/step - loss: 0.0078 - acc: 0.9986\n",
            "Epoch 98/100\n",
            "3539/3539 [==============================] - 6s 2ms/step - loss: 0.0104 - acc: 0.9980\n",
            "Epoch 99/100\n",
            "3539/3539 [==============================] - 6s 2ms/step - loss: 0.0109 - acc: 0.9972\n",
            "Epoch 100/100\n",
            "3539/3539 [==============================] - 6s 2ms/step - loss: 0.0177 - acc: 0.9969\n"
          ],
          "name": "stdout"
        }
      ]
    },
    {
      "metadata": {
        "id": "BLig8EWb78Xp",
        "colab_type": "code",
        "colab": {
          "base_uri": "https://localhost:8080/",
          "height": 347
        },
        "outputId": "a8e72635-481d-42d0-eca0-7c1700c19828"
      },
      "cell_type": "code",
      "source": [
        "plt.plot(history.history['loss'])\n",
        "plt.show()"
      ],
      "execution_count": 106,
      "outputs": [
        {
          "output_type": "display_data",
          "data": {
            "image/png": "[encoded data removed]",
            "text/plain": [
              "<Figure size 576x396 with 1 Axes>"
            ]
          },
          "metadata": {
            "tags": []
          }
        }
      ]
    },
    {
      "metadata": {
        "id": "YZ0OAfgsBeQW",
        "colab_type": "code",
        "colab": {
          "base_uri": "https://localhost:8080/",
          "height": 51
        },
        "outputId": "bc84bf5c-352e-4eb9-f759-c95bc7ec62c4"
      },
      "cell_type": "code",
      "source": [
        "score = model.evaluate([img_test] , [lbl_test])\n",
        "print('Accuracy of {}%'.format(score[1]*100))"
      ],
      "execution_count": 108,
      "outputs": [
        {
          "output_type": "stream",
          "text": [
            "1517/1517 [==============================] - 0s 103us/step\n",
            "Accuracy of 22.940013188827013%\n"
          ],
          "name": "stdout"
        }
      ]
    },
    {
      "metadata": {
        "id": "-souzcVQ8-9h",
        "colab_type": "code",
        "colab": {
          "base_uri": "https://localhost:8080/",
          "height": 51
        },
        "outputId": "986a704b-4b82-41f0-b9bd-5e58fbd2c1bb"
      },
      "cell_type": "code",
      "source": [
        "score = model.evaluate_generator(valid_generator, steps = valid_generator.n//valid_generator.batch_size, workers=12)"
      ],
      "execution_count": 82,
      "outputs": [
        {
          "output_type": "stream",
          "text": [
            "/usr/local/lib/python3.6/dist-packages/PIL/Image.py:885: UserWarning: Palette images with Transparency   expressed in bytes should be converted to RGBA images\n",
            "  'to RGBA images')\n"
          ],
          "name": "stderr"
        }
      ]
    },
    {
      "metadata": {
        "id": "hiIzGEMS9BWP",
        "colab_type": "code",
        "colab": {
          "base_uri": "https://localhost:8080/",
          "height": 34
        },
        "outputId": "fcb3b950-901e-4d18-fdfe-d41a278aa7a4"
      },
      "cell_type": "code",
      "source": [
        "print('Accuracy of {}%'.format(score[1]*100))"
      ],
      "execution_count": 83,
      "outputs": [
        {
          "output_type": "stream",
          "text": [
            "Accuracy of 28.717948717948715%\n"
          ],
          "name": "stdout"
        }
      ]
    },
    {
      "metadata": {
        "id": "nLsrnF5HJAHi",
        "colab_type": "code",
        "colab": {}
      },
      "cell_type": "code",
      "source": [
        "from keras.applications.resnet50 import ResNet50\n",
        "model = ResNet50(include_top=True, weights=None, input_tensor=None, input_shape=(32,32,3), pooling=None, classes=25)\n"
      ],
      "execution_count": 0,
      "outputs": []
    },
    {
      "metadata": {
        "id": "7H0myvqpJf5d",
        "colab_type": "code",
        "colab": {
          "base_uri": "https://localhost:8080/",
          "height": 6426
        },
        "outputId": "f450ac0b-0351-4c7b-c878-812258a6d513"
      },
      "cell_type": "code",
      "source": [
        "model.summary()"
      ],
      "execution_count": 119,
      "outputs": [
        {
          "output_type": "stream",
          "text": [
            "__________________________________________________________________________________________________\n",
            "Layer (type)                    Output Shape         Param #     Connected to                     \n",
            "==================================================================================================\n",
            "input_3 (InputLayer)            (None, 32, 32, 3)    0                                            \n",
            "__________________________________________________________________________________________________\n",
            "conv1_pad (ZeroPadding2D)       (None, 38, 38, 3)    0           input_3[0][0]                    \n",
            "__________________________________________________________________________________________________\n",
            "conv1 (Conv2D)                  (None, 16, 16, 64)   9472        conv1_pad[0][0]                  \n",
            "__________________________________________________________________________________________________\n",
            "bn_conv1 (BatchNormalization)   (None, 16, 16, 64)   256         conv1[0][0]                      \n",
            "__________________________________________________________________________________________________\n",
            "activation_103 (Activation)     (None, 16, 16, 64)   0           bn_conv1[0][0]                   \n",
            "__________________________________________________________________________________________________\n",
            "pool1_pad (ZeroPadding2D)       (None, 18, 18, 64)   0           activation_103[0][0]             \n",
            "__________________________________________________________________________________________________\n",
            "max_pooling2d_17 (MaxPooling2D) (None, 8, 8, 64)     0           pool1_pad[0][0]                  \n",
            "__________________________________________________________________________________________________\n",
            "res2a_branch2a (Conv2D)         (None, 8, 8, 64)     4160        max_pooling2d_17[0][0]           \n",
            "__________________________________________________________________________________________________\n",
            "bn2a_branch2a (BatchNormalizati (None, 8, 8, 64)     256         res2a_branch2a[0][0]             \n",
            "__________________________________________________________________________________________________\n",
            "activation_104 (Activation)     (None, 8, 8, 64)     0           bn2a_branch2a[0][0]              \n",
            "__________________________________________________________________________________________________\n",
            "res2a_branch2b (Conv2D)         (None, 8, 8, 64)     36928       activation_104[0][0]             \n",
            "__________________________________________________________________________________________________\n",
            "bn2a_branch2b (BatchNormalizati (None, 8, 8, 64)     256         res2a_branch2b[0][0]             \n",
            "__________________________________________________________________________________________________\n",
            "activation_105 (Activation)     (None, 8, 8, 64)     0           bn2a_branch2b[0][0]              \n",
            "__________________________________________________________________________________________________\n",
            "res2a_branch2c (Conv2D)         (None, 8, 8, 256)    16640       activation_105[0][0]             \n",
            "__________________________________________________________________________________________________\n",
            "res2a_branch1 (Conv2D)          (None, 8, 8, 256)    16640       max_pooling2d_17[0][0]           \n",
            "__________________________________________________________________________________________________\n",
            "bn2a_branch2c (BatchNormalizati (None, 8, 8, 256)    1024        res2a_branch2c[0][0]             \n",
            "__________________________________________________________________________________________________\n",
            "bn2a_branch1 (BatchNormalizatio (None, 8, 8, 256)    1024        res2a_branch1[0][0]              \n",
            "__________________________________________________________________________________________________\n",
            "add_33 (Add)                    (None, 8, 8, 256)    0           bn2a_branch2c[0][0]              \n",
            "                                                                 bn2a_branch1[0][0]               \n",
            "__________________________________________________________________________________________________\n",
            "activation_106 (Activation)     (None, 8, 8, 256)    0           add_33[0][0]                     \n",
            "__________________________________________________________________________________________________\n",
            "res2b_branch2a (Conv2D)         (None, 8, 8, 64)     16448       activation_106[0][0]             \n",
            "__________________________________________________________________________________________________\n",
            "bn2b_branch2a (BatchNormalizati (None, 8, 8, 64)     256         res2b_branch2a[0][0]             \n",
            "__________________________________________________________________________________________________\n",
            "activation_107 (Activation)     (None, 8, 8, 64)     0           bn2b_branch2a[0][0]              \n",
            "__________________________________________________________________________________________________\n",
            "res2b_branch2b (Conv2D)         (None, 8, 8, 64)     36928       activation_107[0][0]             \n",
            "__________________________________________________________________________________________________\n",
            "bn2b_branch2b (BatchNormalizati (None, 8, 8, 64)     256         res2b_branch2b[0][0]             \n",
            "__________________________________________________________________________________________________\n",
            "activation_108 (Activation)     (None, 8, 8, 64)     0           bn2b_branch2b[0][0]              \n",
            "__________________________________________________________________________________________________\n",
            "res2b_branch2c (Conv2D)         (None, 8, 8, 256)    16640       activation_108[0][0]             \n",
            "__________________________________________________________________________________________________\n",
            "bn2b_branch2c (BatchNormalizati (None, 8, 8, 256)    1024        res2b_branch2c[0][0]             \n",
            "__________________________________________________________________________________________________\n",
            "add_34 (Add)                    (None, 8, 8, 256)    0           bn2b_branch2c[0][0]              \n",
            "                                                                 activation_106[0][0]             \n",
            "__________________________________________________________________________________________________\n",
            "activation_109 (Activation)     (None, 8, 8, 256)    0           add_34[0][0]                     \n",
            "__________________________________________________________________________________________________\n",
            "res2c_branch2a (Conv2D)         (None, 8, 8, 64)     16448       activation_109[0][0]             \n",
            "__________________________________________________________________________________________________\n",
            "bn2c_branch2a (BatchNormalizati (None, 8, 8, 64)     256         res2c_branch2a[0][0]             \n",
            "__________________________________________________________________________________________________\n",
            "activation_110 (Activation)     (None, 8, 8, 64)     0           bn2c_branch2a[0][0]              \n",
            "__________________________________________________________________________________________________\n",
            "res2c_branch2b (Conv2D)         (None, 8, 8, 64)     36928       activation_110[0][0]             \n",
            "__________________________________________________________________________________________________\n",
            "bn2c_branch2b (BatchNormalizati (None, 8, 8, 64)     256         res2c_branch2b[0][0]             \n",
            "__________________________________________________________________________________________________\n",
            "activation_111 (Activation)     (None, 8, 8, 64)     0           bn2c_branch2b[0][0]              \n",
            "__________________________________________________________________________________________________\n",
            "res2c_branch2c (Conv2D)         (None, 8, 8, 256)    16640       activation_111[0][0]             \n",
            "__________________________________________________________________________________________________\n",
            "bn2c_branch2c (BatchNormalizati (None, 8, 8, 256)    1024        res2c_branch2c[0][0]             \n",
            "__________________________________________________________________________________________________\n",
            "add_35 (Add)                    (None, 8, 8, 256)    0           bn2c_branch2c[0][0]              \n",
            "                                                                 activation_109[0][0]             \n",
            "__________________________________________________________________________________________________\n",
            "activation_112 (Activation)     (None, 8, 8, 256)    0           add_35[0][0]                     \n",
            "__________________________________________________________________________________________________\n",
            "res3a_branch2a (Conv2D)         (None, 4, 4, 128)    32896       activation_112[0][0]             \n",
            "__________________________________________________________________________________________________\n",
            "bn3a_branch2a (BatchNormalizati (None, 4, 4, 128)    512         res3a_branch2a[0][0]             \n",
            "__________________________________________________________________________________________________\n",
            "activation_113 (Activation)     (None, 4, 4, 128)    0           bn3a_branch2a[0][0]              \n",
            "__________________________________________________________________________________________________\n",
            "res3a_branch2b (Conv2D)         (None, 4, 4, 128)    147584      activation_113[0][0]             \n",
            "__________________________________________________________________________________________________\n",
            "bn3a_branch2b (BatchNormalizati (None, 4, 4, 128)    512         res3a_branch2b[0][0]             \n",
            "__________________________________________________________________________________________________\n",
            "activation_114 (Activation)     (None, 4, 4, 128)    0           bn3a_branch2b[0][0]              \n",
            "__________________________________________________________________________________________________\n",
            "res3a_branch2c (Conv2D)         (None, 4, 4, 512)    66048       activation_114[0][0]             \n",
            "__________________________________________________________________________________________________\n",
            "res3a_branch1 (Conv2D)          (None, 4, 4, 512)    131584      activation_112[0][0]             \n",
            "__________________________________________________________________________________________________\n",
            "bn3a_branch2c (BatchNormalizati (None, 4, 4, 512)    2048        res3a_branch2c[0][0]             \n",
            "__________________________________________________________________________________________________\n",
            "bn3a_branch1 (BatchNormalizatio (None, 4, 4, 512)    2048        res3a_branch1[0][0]              \n",
            "__________________________________________________________________________________________________\n",
            "add_36 (Add)                    (None, 4, 4, 512)    0           bn3a_branch2c[0][0]              \n",
            "                                                                 bn3a_branch1[0][0]               \n",
            "__________________________________________________________________________________________________\n",
            "activation_115 (Activation)     (None, 4, 4, 512)    0           add_36[0][0]                     \n",
            "__________________________________________________________________________________________________\n",
            "res3b_branch2a (Conv2D)         (None, 4, 4, 128)    65664       activation_115[0][0]             \n",
            "__________________________________________________________________________________________________\n",
            "bn3b_branch2a (BatchNormalizati (None, 4, 4, 128)    512         res3b_branch2a[0][0]             \n",
            "__________________________________________________________________________________________________\n",
            "activation_116 (Activation)     (None, 4, 4, 128)    0           bn3b_branch2a[0][0]              \n",
            "__________________________________________________________________________________________________\n",
            "res3b_branch2b (Conv2D)         (None, 4, 4, 128)    147584      activation_116[0][0]             \n",
            "__________________________________________________________________________________________________\n",
            "bn3b_branch2b (BatchNormalizati (None, 4, 4, 128)    512         res3b_branch2b[0][0]             \n",
            "__________________________________________________________________________________________________\n",
            "activation_117 (Activation)     (None, 4, 4, 128)    0           bn3b_branch2b[0][0]              \n",
            "__________________________________________________________________________________________________\n",
            "res3b_branch2c (Conv2D)         (None, 4, 4, 512)    66048       activation_117[0][0]             \n",
            "__________________________________________________________________________________________________\n",
            "bn3b_branch2c (BatchNormalizati (None, 4, 4, 512)    2048        res3b_branch2c[0][0]             \n",
            "__________________________________________________________________________________________________\n",
            "add_37 (Add)                    (None, 4, 4, 512)    0           bn3b_branch2c[0][0]              \n",
            "                                                                 activation_115[0][0]             \n",
            "__________________________________________________________________________________________________\n",
            "activation_118 (Activation)     (None, 4, 4, 512)    0           add_37[0][0]                     \n",
            "__________________________________________________________________________________________________\n",
            "res3c_branch2a (Conv2D)         (None, 4, 4, 128)    65664       activation_118[0][0]             \n",
            "__________________________________________________________________________________________________\n",
            "bn3c_branch2a (BatchNormalizati (None, 4, 4, 128)    512         res3c_branch2a[0][0]             \n",
            "__________________________________________________________________________________________________\n",
            "activation_119 (Activation)     (None, 4, 4, 128)    0           bn3c_branch2a[0][0]              \n",
            "__________________________________________________________________________________________________\n",
            "res3c_branch2b (Conv2D)         (None, 4, 4, 128)    147584      activation_119[0][0]             \n",
            "__________________________________________________________________________________________________\n",
            "bn3c_branch2b (BatchNormalizati (None, 4, 4, 128)    512         res3c_branch2b[0][0]             \n",
            "__________________________________________________________________________________________________\n",
            "activation_120 (Activation)     (None, 4, 4, 128)    0           bn3c_branch2b[0][0]              \n",
            "__________________________________________________________________________________________________\n",
            "res3c_branch2c (Conv2D)         (None, 4, 4, 512)    66048       activation_120[0][0]             \n",
            "__________________________________________________________________________________________________\n",
            "bn3c_branch2c (BatchNormalizati (None, 4, 4, 512)    2048        res3c_branch2c[0][0]             \n",
            "__________________________________________________________________________________________________\n",
            "add_38 (Add)                    (None, 4, 4, 512)    0           bn3c_branch2c[0][0]              \n",
            "                                                                 activation_118[0][0]             \n",
            "__________________________________________________________________________________________________\n",
            "activation_121 (Activation)     (None, 4, 4, 512)    0           add_38[0][0]                     \n",
            "__________________________________________________________________________________________________\n",
            "res3d_branch2a (Conv2D)         (None, 4, 4, 128)    65664       activation_121[0][0]             \n",
            "__________________________________________________________________________________________________\n",
            "bn3d_branch2a (BatchNormalizati (None, 4, 4, 128)    512         res3d_branch2a[0][0]             \n",
            "__________________________________________________________________________________________________\n",
            "activation_122 (Activation)     (None, 4, 4, 128)    0           bn3d_branch2a[0][0]              \n",
            "__________________________________________________________________________________________________\n",
            "res3d_branch2b (Conv2D)         (None, 4, 4, 128)    147584      activation_122[0][0]             \n",
            "__________________________________________________________________________________________________\n",
            "bn3d_branch2b (BatchNormalizati (None, 4, 4, 128)    512         res3d_branch2b[0][0]             \n",
            "__________________________________________________________________________________________________\n",
            "activation_123 (Activation)     (None, 4, 4, 128)    0           bn3d_branch2b[0][0]              \n",
            "__________________________________________________________________________________________________\n",
            "res3d_branch2c (Conv2D)         (None, 4, 4, 512)    66048       activation_123[0][0]             \n",
            "__________________________________________________________________________________________________\n",
            "bn3d_branch2c (BatchNormalizati (None, 4, 4, 512)    2048        res3d_branch2c[0][0]             \n",
            "__________________________________________________________________________________________________\n",
            "add_39 (Add)                    (None, 4, 4, 512)    0           bn3d_branch2c[0][0]              \n",
            "                                                                 activation_121[0][0]             \n",
            "__________________________________________________________________________________________________\n",
            "activation_124 (Activation)     (None, 4, 4, 512)    0           add_39[0][0]                     \n",
            "__________________________________________________________________________________________________\n",
            "res4a_branch2a (Conv2D)         (None, 2, 2, 256)    131328      activation_124[0][0]             \n",
            "__________________________________________________________________________________________________\n",
            "bn4a_branch2a (BatchNormalizati (None, 2, 2, 256)    1024        res4a_branch2a[0][0]             \n",
            "__________________________________________________________________________________________________\n",
            "activation_125 (Activation)     (None, 2, 2, 256)    0           bn4a_branch2a[0][0]              \n",
            "__________________________________________________________________________________________________\n",
            "res4a_branch2b (Conv2D)         (None, 2, 2, 256)    590080      activation_125[0][0]             \n",
            "__________________________________________________________________________________________________\n",
            "bn4a_branch2b (BatchNormalizati (None, 2, 2, 256)    1024        res4a_branch2b[0][0]             \n",
            "__________________________________________________________________________________________________\n",
            "activation_126 (Activation)     (None, 2, 2, 256)    0           bn4a_branch2b[0][0]              \n",
            "__________________________________________________________________________________________________\n",
            "res4a_branch2c (Conv2D)         (None, 2, 2, 1024)   263168      activation_126[0][0]             \n",
            "__________________________________________________________________________________________________\n",
            "res4a_branch1 (Conv2D)          (None, 2, 2, 1024)   525312      activation_124[0][0]             \n",
            "__________________________________________________________________________________________________\n",
            "bn4a_branch2c (BatchNormalizati (None, 2, 2, 1024)   4096        res4a_branch2c[0][0]             \n",
            "__________________________________________________________________________________________________\n",
            "bn4a_branch1 (BatchNormalizatio (None, 2, 2, 1024)   4096        res4a_branch1[0][0]              \n",
            "__________________________________________________________________________________________________\n",
            "add_40 (Add)                    (None, 2, 2, 1024)   0           bn4a_branch2c[0][0]              \n",
            "                                                                 bn4a_branch1[0][0]               \n",
            "__________________________________________________________________________________________________\n",
            "activation_127 (Activation)     (None, 2, 2, 1024)   0           add_40[0][0]                     \n",
            "__________________________________________________________________________________________________\n",
            "res4b_branch2a (Conv2D)         (None, 2, 2, 256)    262400      activation_127[0][0]             \n",
            "__________________________________________________________________________________________________\n",
            "bn4b_branch2a (BatchNormalizati (None, 2, 2, 256)    1024        res4b_branch2a[0][0]             \n",
            "__________________________________________________________________________________________________\n",
            "activation_128 (Activation)     (None, 2, 2, 256)    0           bn4b_branch2a[0][0]              \n",
            "__________________________________________________________________________________________________\n",
            "res4b_branch2b (Conv2D)         (None, 2, 2, 256)    590080      activation_128[0][0]             \n",
            "__________________________________________________________________________________________________\n",
            "bn4b_branch2b (BatchNormalizati (None, 2, 2, 256)    1024        res4b_branch2b[0][0]             \n",
            "__________________________________________________________________________________________________\n",
            "activation_129 (Activation)     (None, 2, 2, 256)    0           bn4b_branch2b[0][0]              \n",
            "__________________________________________________________________________________________________\n",
            "res4b_branch2c (Conv2D)         (None, 2, 2, 1024)   263168      activation_129[0][0]             \n",
            "__________________________________________________________________________________________________\n",
            "bn4b_branch2c (BatchNormalizati (None, 2, 2, 1024)   4096        res4b_branch2c[0][0]             \n",
            "__________________________________________________________________________________________________\n",
            "add_41 (Add)                    (None, 2, 2, 1024)   0           bn4b_branch2c[0][0]              \n",
            "                                                                 activation_127[0][0]             \n",
            "__________________________________________________________________________________________________\n",
            "activation_130 (Activation)     (None, 2, 2, 1024)   0           add_41[0][0]                     \n",
            "__________________________________________________________________________________________________\n",
            "res4c_branch2a (Conv2D)         (None, 2, 2, 256)    262400      activation_130[0][0]             \n",
            "__________________________________________________________________________________________________\n",
            "bn4c_branch2a (BatchNormalizati (None, 2, 2, 256)    1024        res4c_branch2a[0][0]             \n",
            "__________________________________________________________________________________________________\n",
            "activation_131 (Activation)     (None, 2, 2, 256)    0           bn4c_branch2a[0][0]              \n",
            "__________________________________________________________________________________________________\n",
            "res4c_branch2b (Conv2D)         (None, 2, 2, 256)    590080      activation_131[0][0]             \n",
            "__________________________________________________________________________________________________\n",
            "bn4c_branch2b (BatchNormalizati (None, 2, 2, 256)    1024        res4c_branch2b[0][0]             \n",
            "__________________________________________________________________________________________________\n",
            "activation_132 (Activation)     (None, 2, 2, 256)    0           bn4c_branch2b[0][0]              \n",
            "__________________________________________________________________________________________________\n",
            "res4c_branch2c (Conv2D)         (None, 2, 2, 1024)   263168      activation_132[0][0]             \n",
            "__________________________________________________________________________________________________\n",
            "bn4c_branch2c (BatchNormalizati (None, 2, 2, 1024)   4096        res4c_branch2c[0][0]             \n",
            "__________________________________________________________________________________________________\n",
            "add_42 (Add)                    (None, 2, 2, 1024)   0           bn4c_branch2c[0][0]              \n",
            "                                                                 activation_130[0][0]             \n",
            "__________________________________________________________________________________________________\n",
            "activation_133 (Activation)     (None, 2, 2, 1024)   0           add_42[0][0]                     \n",
            "__________________________________________________________________________________________________\n",
            "res4d_branch2a (Conv2D)         (None, 2, 2, 256)    262400      activation_133[0][0]             \n",
            "__________________________________________________________________________________________________\n",
            "bn4d_branch2a (BatchNormalizati (None, 2, 2, 256)    1024        res4d_branch2a[0][0]             \n",
            "__________________________________________________________________________________________________\n",
            "activation_134 (Activation)     (None, 2, 2, 256)    0           bn4d_branch2a[0][0]              \n",
            "__________________________________________________________________________________________________\n",
            "res4d_branch2b (Conv2D)         (None, 2, 2, 256)    590080      activation_134[0][0]             \n",
            "__________________________________________________________________________________________________\n",
            "bn4d_branch2b (BatchNormalizati (None, 2, 2, 256)    1024        res4d_branch2b[0][0]             \n",
            "__________________________________________________________________________________________________\n",
            "activation_135 (Activation)     (None, 2, 2, 256)    0           bn4d_branch2b[0][0]              \n",
            "__________________________________________________________________________________________________\n",
            "res4d_branch2c (Conv2D)         (None, 2, 2, 1024)   263168      activation_135[0][0]             \n",
            "__________________________________________________________________________________________________\n",
            "bn4d_branch2c (BatchNormalizati (None, 2, 2, 1024)   4096        res4d_branch2c[0][0]             \n",
            "__________________________________________________________________________________________________\n",
            "add_43 (Add)                    (None, 2, 2, 1024)   0           bn4d_branch2c[0][0]              \n",
            "                                                                 activation_133[0][0]             \n",
            "__________________________________________________________________________________________________\n",
            "activation_136 (Activation)     (None, 2, 2, 1024)   0           add_43[0][0]                     \n",
            "__________________________________________________________________________________________________\n",
            "res4e_branch2a (Conv2D)         (None, 2, 2, 256)    262400      activation_136[0][0]             \n",
            "__________________________________________________________________________________________________\n",
            "bn4e_branch2a (BatchNormalizati (None, 2, 2, 256)    1024        res4e_branch2a[0][0]             \n",
            "__________________________________________________________________________________________________\n",
            "activation_137 (Activation)     (None, 2, 2, 256)    0           bn4e_branch2a[0][0]              \n",
            "__________________________________________________________________________________________________\n",
            "res4e_branch2b (Conv2D)         (None, 2, 2, 256)    590080      activation_137[0][0]             \n",
            "__________________________________________________________________________________________________\n",
            "bn4e_branch2b (BatchNormalizati (None, 2, 2, 256)    1024        res4e_branch2b[0][0]             \n",
            "__________________________________________________________________________________________________\n",
            "activation_138 (Activation)     (None, 2, 2, 256)    0           bn4e_branch2b[0][0]              \n",
            "__________________________________________________________________________________________________\n",
            "res4e_branch2c (Conv2D)         (None, 2, 2, 1024)   263168      activation_138[0][0]             \n",
            "__________________________________________________________________________________________________\n",
            "bn4e_branch2c (BatchNormalizati (None, 2, 2, 1024)   4096        res4e_branch2c[0][0]             \n",
            "__________________________________________________________________________________________________\n",
            "add_44 (Add)                    (None, 2, 2, 1024)   0           bn4e_branch2c[0][0]              \n",
            "                                                                 activation_136[0][0]             \n",
            "__________________________________________________________________________________________________\n",
            "activation_139 (Activation)     (None, 2, 2, 1024)   0           add_44[0][0]                     \n",
            "__________________________________________________________________________________________________\n",
            "res4f_branch2a (Conv2D)         (None, 2, 2, 256)    262400      activation_139[0][0]             \n",
            "__________________________________________________________________________________________________\n",
            "bn4f_branch2a (BatchNormalizati (None, 2, 2, 256)    1024        res4f_branch2a[0][0]             \n",
            "__________________________________________________________________________________________________\n",
            "activation_140 (Activation)     (None, 2, 2, 256)    0           bn4f_branch2a[0][0]              \n",
            "__________________________________________________________________________________________________\n",
            "res4f_branch2b (Conv2D)         (None, 2, 2, 256)    590080      activation_140[0][0]             \n",
            "__________________________________________________________________________________________________\n",
            "bn4f_branch2b (BatchNormalizati (None, 2, 2, 256)    1024        res4f_branch2b[0][0]             \n",
            "__________________________________________________________________________________________________\n",
            "activation_141 (Activation)     (None, 2, 2, 256)    0           bn4f_branch2b[0][0]              \n",
            "__________________________________________________________________________________________________\n",
            "res4f_branch2c (Conv2D)         (None, 2, 2, 1024)   263168      activation_141[0][0]             \n",
            "__________________________________________________________________________________________________\n",
            "bn4f_branch2c (BatchNormalizati (None, 2, 2, 1024)   4096        res4f_branch2c[0][0]             \n",
            "__________________________________________________________________________________________________\n",
            "add_45 (Add)                    (None, 2, 2, 1024)   0           bn4f_branch2c[0][0]              \n",
            "                                                                 activation_139[0][0]             \n",
            "__________________________________________________________________________________________________\n",
            "activation_142 (Activation)     (None, 2, 2, 1024)   0           add_45[0][0]                     \n",
            "__________________________________________________________________________________________________\n",
            "res5a_branch2a (Conv2D)         (None, 1, 1, 512)    524800      activation_142[0][0]             \n",
            "__________________________________________________________________________________________________\n",
            "bn5a_branch2a (BatchNormalizati (None, 1, 1, 512)    2048        res5a_branch2a[0][0]             \n",
            "__________________________________________________________________________________________________\n",
            "activation_143 (Activation)     (None, 1, 1, 512)    0           bn5a_branch2a[0][0]              \n",
            "__________________________________________________________________________________________________\n",
            "res5a_branch2b (Conv2D)         (None, 1, 1, 512)    2359808     activation_143[0][0]             \n",
            "__________________________________________________________________________________________________\n",
            "bn5a_branch2b (BatchNormalizati (None, 1, 1, 512)    2048        res5a_branch2b[0][0]             \n",
            "__________________________________________________________________________________________________\n",
            "activation_144 (Activation)     (None, 1, 1, 512)    0           bn5a_branch2b[0][0]              \n",
            "__________________________________________________________________________________________________\n",
            "res5a_branch2c (Conv2D)         (None, 1, 1, 2048)   1050624     activation_144[0][0]             \n",
            "__________________________________________________________________________________________________\n",
            "res5a_branch1 (Conv2D)          (None, 1, 1, 2048)   2099200     activation_142[0][0]             \n",
            "__________________________________________________________________________________________________\n",
            "bn5a_branch2c (BatchNormalizati (None, 1, 1, 2048)   8192        res5a_branch2c[0][0]             \n",
            "__________________________________________________________________________________________________\n",
            "bn5a_branch1 (BatchNormalizatio (None, 1, 1, 2048)   8192        res5a_branch1[0][0]              \n",
            "__________________________________________________________________________________________________\n",
            "add_46 (Add)                    (None, 1, 1, 2048)   0           bn5a_branch2c[0][0]              \n",
            "                                                                 bn5a_branch1[0][0]               \n",
            "__________________________________________________________________________________________________\n",
            "activation_145 (Activation)     (None, 1, 1, 2048)   0           add_46[0][0]                     \n",
            "__________________________________________________________________________________________________\n",
            "res5b_branch2a (Conv2D)         (None, 1, 1, 512)    1049088     activation_145[0][0]             \n",
            "__________________________________________________________________________________________________\n",
            "bn5b_branch2a (BatchNormalizati (None, 1, 1, 512)    2048        res5b_branch2a[0][0]             \n",
            "__________________________________________________________________________________________________\n",
            "activation_146 (Activation)     (None, 1, 1, 512)    0           bn5b_branch2a[0][0]              \n",
            "__________________________________________________________________________________________________\n",
            "res5b_branch2b (Conv2D)         (None, 1, 1, 512)    2359808     activation_146[0][0]             \n",
            "__________________________________________________________________________________________________\n",
            "bn5b_branch2b (BatchNormalizati (None, 1, 1, 512)    2048        res5b_branch2b[0][0]             \n",
            "__________________________________________________________________________________________________\n",
            "activation_147 (Activation)     (None, 1, 1, 512)    0           bn5b_branch2b[0][0]              \n",
            "__________________________________________________________________________________________________\n",
            "res5b_branch2c (Conv2D)         (None, 1, 1, 2048)   1050624     activation_147[0][0]             \n",
            "__________________________________________________________________________________________________\n",
            "bn5b_branch2c (BatchNormalizati (None, 1, 1, 2048)   8192        res5b_branch2c[0][0]             \n",
            "__________________________________________________________________________________________________\n",
            "add_47 (Add)                    (None, 1, 1, 2048)   0           bn5b_branch2c[0][0]              \n",
            "                                                                 activation_145[0][0]             \n",
            "__________________________________________________________________________________________________\n",
            "activation_148 (Activation)     (None, 1, 1, 2048)   0           add_47[0][0]                     \n",
            "__________________________________________________________________________________________________\n",
            "res5c_branch2a (Conv2D)         (None, 1, 1, 512)    1049088     activation_148[0][0]             \n",
            "__________________________________________________________________________________________________\n",
            "bn5c_branch2a (BatchNormalizati (None, 1, 1, 512)    2048        res5c_branch2a[0][0]             \n",
            "__________________________________________________________________________________________________\n",
            "activation_149 (Activation)     (None, 1, 1, 512)    0           bn5c_branch2a[0][0]              \n",
            "__________________________________________________________________________________________________\n",
            "res5c_branch2b (Conv2D)         (None, 1, 1, 512)    2359808     activation_149[0][0]             \n",
            "__________________________________________________________________________________________________\n",
            "bn5c_branch2b (BatchNormalizati (None, 1, 1, 512)    2048        res5c_branch2b[0][0]             \n",
            "__________________________________________________________________________________________________\n",
            "activation_150 (Activation)     (None, 1, 1, 512)    0           bn5c_branch2b[0][0]              \n",
            "__________________________________________________________________________________________________\n",
            "res5c_branch2c (Conv2D)         (None, 1, 1, 2048)   1050624     activation_150[0][0]             \n",
            "__________________________________________________________________________________________________\n",
            "bn5c_branch2c (BatchNormalizati (None, 1, 1, 2048)   8192        res5c_branch2c[0][0]             \n",
            "__________________________________________________________________________________________________\n",
            "add_48 (Add)                    (None, 1, 1, 2048)   0           bn5c_branch2c[0][0]              \n",
            "                                                                 activation_148[0][0]             \n",
            "__________________________________________________________________________________________________\n",
            "activation_151 (Activation)     (None, 1, 1, 2048)   0           add_48[0][0]                     \n",
            "__________________________________________________________________________________________________\n",
            "avg_pool (GlobalAveragePooling2 (None, 2048)         0           activation_151[0][0]             \n",
            "__________________________________________________________________________________________________\n",
            "fc1000 (Dense)                  (None, 25)           51225       avg_pool[0][0]                   \n",
            "==================================================================================================\n",
            "Total params: 23,638,937\n",
            "Trainable params: 23,585,817\n",
            "Non-trainable params: 53,120\n",
            "__________________________________________________________________________________________________\n"
          ],
          "name": "stdout"
        }
      ]
    },
    {
      "metadata": {
        "id": "wZAZmznYKVS9",
        "colab_type": "code",
        "colab": {}
      },
      "cell_type": "code",
      "source": [
        "model.compile(loss = 'categorical_crossentropy', optimizer = 'adam' , metrics = ['accuracy'])"
      ],
      "execution_count": 0,
      "outputs": []
    },
    {
      "metadata": {
        "id": "kqgvgmVaK0je",
        "colab_type": "code",
        "colab": {
          "base_uri": "https://localhost:8080/",
          "height": 1867
        },
        "outputId": "4c727b68-e496-437d-f55b-39958e302820"
      },
      "cell_type": "code",
      "source": [
        "history = model.fit([img_train], [lbl_train], epochs=100, batch_size = 32)"
      ],
      "execution_count": 124,
      "outputs": [
        {
          "output_type": "stream",
          "text": [
            "Epoch 1/100\n",
            "3539/3539 [==============================] - 45s 13ms/step - loss: 4.0779 - acc: 0.1034\n",
            "Epoch 2/100\n",
            "3539/3539 [==============================] - 23s 6ms/step - loss: 3.3894 - acc: 0.1678\n",
            "Epoch 3/100\n",
            "3539/3539 [==============================] - 23s 6ms/step - loss: 3.4476 - acc: 0.1613\n",
            "Epoch 4/100\n",
            "3539/3539 [==============================] - 22s 6ms/step - loss: 3.1562 - acc: 0.2006\n",
            "Epoch 5/100\n",
            "3539/3539 [==============================] - 22s 6ms/step - loss: 2.8773 - acc: 0.2684\n",
            "Epoch 6/100\n",
            "3539/3539 [==============================] - 22s 6ms/step - loss: 2.9808 - acc: 0.2512\n",
            "Epoch 7/100\n",
            "3539/3539 [==============================] - 22s 6ms/step - loss: 3.2829 - acc: 0.1707\n",
            "Epoch 8/100\n",
            "3539/3539 [==============================] - 22s 6ms/step - loss: 3.4139 - acc: 0.1642\n",
            "Epoch 9/100\n",
            "3539/3539 [==============================] - 22s 6ms/step - loss: 3.1932 - acc: 0.1865\n",
            "Epoch 10/100\n",
            "3539/3539 [==============================] - 22s 6ms/step - loss: 3.1163 - acc: 0.2020\n",
            "Epoch 11/100\n",
            "3539/3539 [==============================] - 22s 6ms/step - loss: 3.1275 - acc: 0.2066\n",
            "Epoch 12/100\n",
            "3539/3539 [==============================] - 22s 6ms/step - loss: 3.1009 - acc: 0.1986\n",
            "Epoch 13/100\n",
            "3539/3539 [==============================] - 22s 6ms/step - loss: 3.0404 - acc: 0.2159\n",
            "Epoch 14/100\n",
            "3539/3539 [==============================] - 22s 6ms/step - loss: 2.9286 - acc: 0.2413\n",
            "Epoch 15/100\n",
            "3539/3539 [==============================] - 22s 6ms/step - loss: 3.1452 - acc: 0.1972\n",
            "Epoch 16/100\n",
            "3539/3539 [==============================] - 22s 6ms/step - loss: 3.0066 - acc: 0.2227\n",
            "Epoch 17/100\n",
            "3539/3539 [==============================] - 22s 6ms/step - loss: 2.8812 - acc: 0.2498\n",
            "Epoch 18/100\n",
            "3539/3539 [==============================] - 22s 6ms/step - loss: 2.7716 - acc: 0.2693\n",
            "Epoch 19/100\n",
            "3539/3539 [==============================] - 22s 6ms/step - loss: 3.0117 - acc: 0.2235\n",
            "Epoch 20/100\n",
            "3539/3539 [==============================] - 22s 6ms/step - loss: 3.0662 - acc: 0.2071\n",
            "Epoch 21/100\n",
            "3539/3539 [==============================] - 22s 6ms/step - loss: 3.0639 - acc: 0.2001\n",
            "Epoch 22/100\n",
            "3539/3539 [==============================] - 22s 6ms/step - loss: 3.2461 - acc: 0.1944\n",
            "Epoch 23/100\n",
            "3539/3539 [==============================] - 22s 6ms/step - loss: 3.0867 - acc: 0.2046\n",
            "Epoch 24/100\n",
            "3539/3539 [==============================] - 22s 6ms/step - loss: 3.0090 - acc: 0.2108\n",
            "Epoch 25/100\n",
            "3539/3539 [==============================] - 22s 6ms/step - loss: 3.0017 - acc: 0.2170\n",
            "Epoch 26/100\n",
            "3539/3539 [==============================] - 22s 6ms/step - loss: 3.0229 - acc: 0.2125\n",
            "Epoch 27/100\n",
            "3539/3539 [==============================] - 22s 6ms/step - loss: 3.1239 - acc: 0.1978\n",
            "Epoch 28/100\n",
            "3539/3539 [==============================] - 22s 6ms/step - loss: 3.0898 - acc: 0.2023\n",
            "Epoch 29/100\n",
            "3539/3539 [==============================] - 22s 6ms/step - loss: 3.3972 - acc: 0.1300\n",
            "Epoch 30/100\n",
            "3539/3539 [==============================] - 22s 6ms/step - loss: 3.3207 - acc: 0.1368\n",
            "Epoch 31/100\n",
            "3539/3539 [==============================] - 22s 6ms/step - loss: 3.2767 - acc: 0.1580\n",
            "Epoch 32/100\n",
            " 608/3539 [====>.........................] - ETA: 18s - loss: 3.2053 - acc: 0.1793"
          ],
          "name": "stdout"
        },
        {
          "output_type": "error",
          "ename": "KeyboardInterrupt",
          "evalue": "ignored",
          "traceback": [
            "\u001b[0;31m---------------------------------------------------------------------------\u001b[0m",
            "\u001b[0;31mKeyboardInterrupt\u001b[0m                         Traceback (most recent call last)",
            "\u001b[0;32m<ipython-input-124-b2b80d4a9b96>\u001b[0m in \u001b[0;36m<module>\u001b[0;34m()\u001b[0m\n\u001b[0;32m----> 1\u001b[0;31m \u001b[0mhistory\u001b[0m \u001b[0;34m=\u001b[0m \u001b[0mmodel\u001b[0m\u001b[0;34m.\u001b[0m\u001b[0mfit\u001b[0m\u001b[0;34m(\u001b[0m\u001b[0;34m[\u001b[0m\u001b[0mimg_train\u001b[0m\u001b[0;34m]\u001b[0m\u001b[0;34m,\u001b[0m \u001b[0;34m[\u001b[0m\u001b[0mlbl_train\u001b[0m\u001b[0;34m]\u001b[0m\u001b[0;34m,\u001b[0m \u001b[0mepochs\u001b[0m\u001b[0;34m=\u001b[0m\u001b[0;36m100\u001b[0m\u001b[0;34m,\u001b[0m \u001b[0mbatch_size\u001b[0m \u001b[0;34m=\u001b[0m \u001b[0;36m32\u001b[0m\u001b[0;34m)\u001b[0m\u001b[0;34m\u001b[0m\u001b[0;34m\u001b[0m\u001b[0m\n\u001b[0m",
            "\u001b[0;32m/usr/local/lib/python3.6/dist-packages/keras/engine/training.py\u001b[0m in \u001b[0;36mfit\u001b[0;34m(self, x, y, batch_size, epochs, verbose, callbacks, validation_split, validation_data, shuffle, class_weight, sample_weight, initial_epoch, steps_per_epoch, validation_steps, **kwargs)\u001b[0m\n\u001b[1;32m   1037\u001b[0m                                         \u001b[0minitial_epoch\u001b[0m\u001b[0;34m=\u001b[0m\u001b[0minitial_epoch\u001b[0m\u001b[0;34m,\u001b[0m\u001b[0;34m\u001b[0m\u001b[0;34m\u001b[0m\u001b[0m\n\u001b[1;32m   1038\u001b[0m                                         \u001b[0msteps_per_epoch\u001b[0m\u001b[0;34m=\u001b[0m\u001b[0msteps_per_epoch\u001b[0m\u001b[0;34m,\u001b[0m\u001b[0;34m\u001b[0m\u001b[0;34m\u001b[0m\u001b[0m\n\u001b[0;32m-> 1039\u001b[0;31m                                         validation_steps=validation_steps)\n\u001b[0m\u001b[1;32m   1040\u001b[0m \u001b[0;34m\u001b[0m\u001b[0m\n\u001b[1;32m   1041\u001b[0m     def evaluate(self, x=None, y=None,\n",
            "\u001b[0;32m/usr/local/lib/python3.6/dist-packages/keras/engine/training_arrays.py\u001b[0m in \u001b[0;36mfit_loop\u001b[0;34m(model, f, ins, out_labels, batch_size, epochs, verbose, callbacks, val_f, val_ins, shuffle, callback_metrics, initial_epoch, steps_per_epoch, validation_steps)\u001b[0m\n\u001b[1;32m    197\u001b[0m                     \u001b[0mins_batch\u001b[0m\u001b[0;34m[\u001b[0m\u001b[0mi\u001b[0m\u001b[0;34m]\u001b[0m \u001b[0;34m=\u001b[0m \u001b[0mins_batch\u001b[0m\u001b[0;34m[\u001b[0m\u001b[0mi\u001b[0m\u001b[0;34m]\u001b[0m\u001b[0;34m.\u001b[0m\u001b[0mtoarray\u001b[0m\u001b[0;34m(\u001b[0m\u001b[0;34m)\u001b[0m\u001b[0;34m\u001b[0m\u001b[0;34m\u001b[0m\u001b[0m\n\u001b[1;32m    198\u001b[0m \u001b[0;34m\u001b[0m\u001b[0m\n\u001b[0;32m--> 199\u001b[0;31m                 \u001b[0mouts\u001b[0m \u001b[0;34m=\u001b[0m \u001b[0mf\u001b[0m\u001b[0;34m(\u001b[0m\u001b[0mins_batch\u001b[0m\u001b[0;34m)\u001b[0m\u001b[0;34m\u001b[0m\u001b[0;34m\u001b[0m\u001b[0m\n\u001b[0m\u001b[1;32m    200\u001b[0m                 \u001b[0mouts\u001b[0m \u001b[0;34m=\u001b[0m \u001b[0mto_list\u001b[0m\u001b[0;34m(\u001b[0m\u001b[0mouts\u001b[0m\u001b[0;34m)\u001b[0m\u001b[0;34m\u001b[0m\u001b[0;34m\u001b[0m\u001b[0m\n\u001b[1;32m    201\u001b[0m                 \u001b[0;32mfor\u001b[0m \u001b[0ml\u001b[0m\u001b[0;34m,\u001b[0m \u001b[0mo\u001b[0m \u001b[0;32min\u001b[0m \u001b[0mzip\u001b[0m\u001b[0;34m(\u001b[0m\u001b[0mout_labels\u001b[0m\u001b[0;34m,\u001b[0m \u001b[0mouts\u001b[0m\u001b[0;34m)\u001b[0m\u001b[0;34m:\u001b[0m\u001b[0;34m\u001b[0m\u001b[0;34m\u001b[0m\u001b[0m\n",
            "\u001b[0;32m/usr/local/lib/python3.6/dist-packages/keras/backend/tensorflow_backend.py\u001b[0m in \u001b[0;36m__call__\u001b[0;34m(self, inputs)\u001b[0m\n\u001b[1;32m   2713\u001b[0m                 \u001b[0;32mreturn\u001b[0m \u001b[0mself\u001b[0m\u001b[0;34m.\u001b[0m\u001b[0m_legacy_call\u001b[0m\u001b[0;34m(\u001b[0m\u001b[0minputs\u001b[0m\u001b[0;34m)\u001b[0m\u001b[0;34m\u001b[0m\u001b[0;34m\u001b[0m\u001b[0m\n\u001b[1;32m   2714\u001b[0m \u001b[0;34m\u001b[0m\u001b[0m\n\u001b[0;32m-> 2715\u001b[0;31m             \u001b[0;32mreturn\u001b[0m \u001b[0mself\u001b[0m\u001b[0;34m.\u001b[0m\u001b[0m_call\u001b[0m\u001b[0;34m(\u001b[0m\u001b[0minputs\u001b[0m\u001b[0;34m)\u001b[0m\u001b[0;34m\u001b[0m\u001b[0;34m\u001b[0m\u001b[0m\n\u001b[0m\u001b[1;32m   2716\u001b[0m         \u001b[0;32melse\u001b[0m\u001b[0;34m:\u001b[0m\u001b[0;34m\u001b[0m\u001b[0;34m\u001b[0m\u001b[0m\n\u001b[1;32m   2717\u001b[0m             \u001b[0;32mif\u001b[0m \u001b[0mpy_any\u001b[0m\u001b[0;34m(\u001b[0m\u001b[0mis_tensor\u001b[0m\u001b[0;34m(\u001b[0m\u001b[0mx\u001b[0m\u001b[0;34m)\u001b[0m \u001b[0;32mfor\u001b[0m \u001b[0mx\u001b[0m \u001b[0;32min\u001b[0m \u001b[0minputs\u001b[0m\u001b[0;34m)\u001b[0m\u001b[0;34m:\u001b[0m\u001b[0;34m\u001b[0m\u001b[0;34m\u001b[0m\u001b[0m\n",
            "\u001b[0;32m/usr/local/lib/python3.6/dist-packages/keras/backend/tensorflow_backend.py\u001b[0m in \u001b[0;36m_call\u001b[0;34m(self, inputs)\u001b[0m\n\u001b[1;32m   2673\u001b[0m             \u001b[0mfetched\u001b[0m \u001b[0;34m=\u001b[0m \u001b[0mself\u001b[0m\u001b[0;34m.\u001b[0m\u001b[0m_callable_fn\u001b[0m\u001b[0;34m(\u001b[0m\u001b[0;34m*\u001b[0m\u001b[0marray_vals\u001b[0m\u001b[0;34m,\u001b[0m \u001b[0mrun_metadata\u001b[0m\u001b[0;34m=\u001b[0m\u001b[0mself\u001b[0m\u001b[0;34m.\u001b[0m\u001b[0mrun_metadata\u001b[0m\u001b[0;34m)\u001b[0m\u001b[0;34m\u001b[0m\u001b[0;34m\u001b[0m\u001b[0m\n\u001b[1;32m   2674\u001b[0m         \u001b[0;32melse\u001b[0m\u001b[0;34m:\u001b[0m\u001b[0;34m\u001b[0m\u001b[0;34m\u001b[0m\u001b[0m\n\u001b[0;32m-> 2675\u001b[0;31m             \u001b[0mfetched\u001b[0m \u001b[0;34m=\u001b[0m \u001b[0mself\u001b[0m\u001b[0;34m.\u001b[0m\u001b[0m_callable_fn\u001b[0m\u001b[0;34m(\u001b[0m\u001b[0;34m*\u001b[0m\u001b[0marray_vals\u001b[0m\u001b[0;34m)\u001b[0m\u001b[0;34m\u001b[0m\u001b[0;34m\u001b[0m\u001b[0m\n\u001b[0m\u001b[1;32m   2676\u001b[0m         \u001b[0;32mreturn\u001b[0m \u001b[0mfetched\u001b[0m\u001b[0;34m[\u001b[0m\u001b[0;34m:\u001b[0m\u001b[0mlen\u001b[0m\u001b[0;34m(\u001b[0m\u001b[0mself\u001b[0m\u001b[0;34m.\u001b[0m\u001b[0moutputs\u001b[0m\u001b[0;34m)\u001b[0m\u001b[0;34m]\u001b[0m\u001b[0;34m\u001b[0m\u001b[0;34m\u001b[0m\u001b[0m\n\u001b[1;32m   2677\u001b[0m \u001b[0;34m\u001b[0m\u001b[0m\n",
            "\u001b[0;32m/usr/local/lib/python3.6/dist-packages/tensorflow/python/client/session.py\u001b[0m in \u001b[0;36m__call__\u001b[0;34m(self, *args, **kwargs)\u001b[0m\n\u001b[1;32m   1437\u001b[0m           ret = tf_session.TF_SessionRunCallable(\n\u001b[1;32m   1438\u001b[0m               \u001b[0mself\u001b[0m\u001b[0;34m.\u001b[0m\u001b[0m_session\u001b[0m\u001b[0;34m.\u001b[0m\u001b[0m_session\u001b[0m\u001b[0;34m,\u001b[0m \u001b[0mself\u001b[0m\u001b[0;34m.\u001b[0m\u001b[0m_handle\u001b[0m\u001b[0;34m,\u001b[0m \u001b[0margs\u001b[0m\u001b[0;34m,\u001b[0m \u001b[0mstatus\u001b[0m\u001b[0;34m,\u001b[0m\u001b[0;34m\u001b[0m\u001b[0;34m\u001b[0m\u001b[0m\n\u001b[0;32m-> 1439\u001b[0;31m               run_metadata_ptr)\n\u001b[0m\u001b[1;32m   1440\u001b[0m         \u001b[0;32mif\u001b[0m \u001b[0mrun_metadata\u001b[0m\u001b[0;34m:\u001b[0m\u001b[0;34m\u001b[0m\u001b[0;34m\u001b[0m\u001b[0m\n\u001b[1;32m   1441\u001b[0m           \u001b[0mproto_data\u001b[0m \u001b[0;34m=\u001b[0m \u001b[0mtf_session\u001b[0m\u001b[0;34m.\u001b[0m\u001b[0mTF_GetBuffer\u001b[0m\u001b[0;34m(\u001b[0m\u001b[0mrun_metadata_ptr\u001b[0m\u001b[0;34m)\u001b[0m\u001b[0;34m\u001b[0m\u001b[0;34m\u001b[0m\u001b[0m\n",
            "\u001b[0;31mKeyboardInterrupt\u001b[0m: "
          ]
        }
      ]
    },
    {
      "metadata": {
        "id": "WMRdTN9BJib6",
        "colab_type": "code",
        "colab": {}
      },
      "cell_type": "code",
      "source": [
        "score = model.evaluate([img_test] , [lbl_test])\n",
        "print('Accuracy of RESNET {}%'.format(score[1]*100))"
      ],
      "execution_count": 0,
      "outputs": []
    },
    {
      "metadata": {
        "id": "j447XmwoKyK6",
        "colab_type": "code",
        "colab": {}
      },
      "cell_type": "code",
      "source": [
        ""
      ],
      "execution_count": 0,
      "outputs": []
    }
  ]
}